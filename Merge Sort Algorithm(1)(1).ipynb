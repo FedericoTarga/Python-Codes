{
 "cells": [
  {
   "cell_type": "code",
   "execution_count": 20,
   "id": "11c24a33",
   "metadata": {},
   "outputs": [
    {
     "name": "stdout",
     "output_type": "stream",
     "text": [
      "------------------------------------\n",
      "| Data e ora: 2023-06-11 10:17:56 |\n",
      "------------------------------------\n",
      "------------------------------------\n",
      "     |Autore:  Federico Targa |\n",
      "------------------------------------\n"
     ]
    }
   ],
   "source": [
    "from datetime import datetime\n",
    "data_ora_correnti = datetime.now()\n",
    "data_ora_formattate = data_ora_correnti.strftime(\"%Y-%m-%d %H:%M:%S\")\n",
    "autore = 'Federico Targa'\n",
    "print('------------------------------------')\n",
    "print(\"| Data e ora:\", data_ora_formattate,'|')\n",
    "print('------------------------------------')\n",
    "print('------------------------------------')\n",
    "print('     |Autore: ', autore                 ,'|')\n",
    "print('------------------------------------')"
   ]
  },
  {
   "cell_type": "markdown",
   "id": "8c933033",
   "metadata": {},
   "source": [
    "--------------------------------------------------------------------------------------------------------------------------------"
   ]
  },
  {
   "cell_type": "markdown",
   "id": "5ac2653d",
   "metadata": {},
   "source": [
    "ABSTRACT"
   ]
  },
  {
   "cell_type": "markdown",
   "id": "faf155f6",
   "metadata": {},
   "source": [
    "Il merge sort è un algoritmo di ordinamento basato su confronti che utilizza un processo di risoluzione ricorsivo, sfruttando la tecnica del Divide et Impera, che consiste nella suddivisione del problema in sottoproblemi della stessa natura di dimensione via via più piccola. Fu inventato da John von Neumann nel 1945. Una descrizione dettagliata e un'analisi della versione bottom-up dell'algoritmo apparve in un articolo di Goldstine e Neumann già nel 1948."
   ]
  },
  {
   "cell_type": "markdown",
   "id": "9bf4c15c",
   "metadata": {},
   "source": [
    "--------------------------------------------------------------------------------------------------------------------------------"
   ]
  },
  {
   "cell_type": "markdown",
   "id": "f8fba027",
   "metadata": {},
   "source": [
    "Concettualmente, l'algoritmo funziona nel seguente modo:\n",
    "\n",
    "se la sequenza da ordinare ha lunghezza 0 oppure 1, è già ordinata. Se, invece, e la lunghezza è maggiore di 1 , la sequenza viene divisa (divide) in due metà (se la sequenza contiene un numero dispari di elementi, viene divisa in due sottosequenze di cui la prima ha un elemento in più della seconda).Ognuna di queste sottosequenze viene ordinata, applicando ricorsivamente l'algoritmo (impera).\n",
    "Le due sottosequenze ordinate vengono fuse (combina). Per fare questo, si estrae ripetutamente il minimo delle due sottosequenze e lo si pone nella sequenza in uscita, che risulterà ordinata."
   ]
  },
  {
   "cell_type": "markdown",
   "id": "bb35afd5",
   "metadata": {},
   "source": [
    "--------------------------------------------------------------------------------------------------------------------------------"
   ]
  },
  {
   "cell_type": "markdown",
   "id": "c8cfbbb5",
   "metadata": {},
   "source": [
    "Riassumendo, possiamo quindi dire che, l'algoritmo Merge Sort, si compone di 3 steps:\n",
    "\n",
    "1) Dividi: l'algoritmo divide la lista non ordinata a metà, ricorsivamente, fino a quando non rimangono singoli elementi o liste vuote; \n",
    "\n",
    "2) Conquista: una volta che la lista viene suddivisa in singoli elementi o liste vuote, non è necessario alcun ulteriore ordinamento; \n",
    "\n",
    "\n",
    "3) Combina: l'algoritmo combina le due liste ordinate (ottenute dalla fase di conquista) in una singola lista ordinata. Questa fase richiede la comparazione degli elementi delle due liste e l'inserimento degli elementi nella lista di output in modo appropriato."
   ]
  },
  {
   "cell_type": "markdown",
   "id": "44c8a65e",
   "metadata": {},
   "source": [
    "________________________________________________________________________________________________________________________________"
   ]
  },
  {
   "cell_type": "markdown",
   "id": "32a76a12",
   "metadata": {},
   "source": [
    "Vediamo un esempio"
   ]
  },
  {
   "cell_type": "markdown",
   "id": "cda817f4",
   "metadata": {},
   "source": [
    "Supponendo di dover ordinare la sequenza [10 3 15 2 1 4 9 0], l'algoritmo procede ricorsivamente dividendola in metà successive, fino ad arrivare agli elementi:\n",
    "\n",
    "[10] [3] [15] [2] [1] [4] [9] [0]\n",
    "\n",
    "A questo punto si fondono (merge) in maniera ordinata gli elementi, riunendoli in coppie:\n",
    "\n",
    "[3 10] [2 15] [1 4] [0 9]\n",
    "\n",
    "Al passo successivo, si fondono le coppie di array di due elementi:\n",
    "\n",
    "[2 3 10 15] [0 1 4 9]\n",
    "\n",
    "Infine, fondendo le due sequenze di quattro elementi, si ottiene la sequenza ordinata:\n",
    "\n",
    "[0 1 2 3 4 9 10 15]\n",
    "\n",
    "L'esecuzione ricorsiva all'interno del calcolatore non avviene nell'ordine descritto sopra. Tuttavia, si è formulato l'esempio in questo modo per renderlo più comprensibile."
   ]
  },
  {
   "cell_type": "markdown",
   "id": "5aecf879",
   "metadata": {},
   "source": [
    "La valutazione del tempo di esecuzione dell'algoritmo Merge Sort può essere analizzata nel seguente modo:\n",
    "\n",
    "Dividi: La fase di divisione dell'algoritmo Merge Sort richiede un tempo costante, poiché coinvolge solo operazioni di      suddivisione dell'input in due parti. Quindi, il tempo richiesto per questa fase è O(1).\n",
    "\n",
    "Conquista: Poiché la fase di conquista viene eseguita quando la lista viene divisa in singoli elementi o liste vuote, non è richiesta alcuna operazione di ordinamento. Pertanto, il tempo richiesto per questa fase è anche O(1).\n",
    "\n",
    "Combina: La fase di combinazione è la parte cruciale dell'algoritmo Merge Sort. Durante questa fase, vengono combinate le liste ordinate ottenute dalla fase di conquista. La combinazione richiede la comparazione degli elementi delle due liste e l'inserimento degli elementi nella lista di output in modo appropriato. Il tempo richiesto per la combinazione dipende dalla dimensione delle liste da combinare."
   ]
  },
  {
   "cell_type": "markdown",
   "id": "90fe898a",
   "metadata": {},
   "source": [
    "--------------------------------------------------------------------------------------------------------------------------------"
   ]
  },
  {
   "cell_type": "markdown",
   "id": "0e27d513",
   "metadata": {},
   "source": [
    "Nel caso migliore, quando le due liste da combinare hanno dimensioni simili, la combinazione richiede un tempo lineare. Ad esempio, se le due liste hanno entrambe \"n/2\" elementi, il tempo richiesto per la combinazione sarà O(n), dove \"n\" è la dimensione totale dell'input.\n",
    "\n",
    "Nel caso peggiore, quando una delle due liste è molto più grande dell'altra, la combinazione richiede un tempo proporzionale alla dimensione della lista più grande. Pertanto, il tempo richiesto per la combinazione nel caso peggiore è ancora O(n), dove \"n\" è la dimensione totale dell'input."
   ]
  },
  {
   "cell_type": "markdown",
   "id": "0b0b7e46",
   "metadata": {},
   "source": [
    "--------------------------------------------------------------------------------------------------------------------------------"
   ]
  },
  {
   "cell_type": "markdown",
   "id": "48b27086",
   "metadata": {},
   "source": [
    "Passiamo ora all'implementazione dell'algoritmo attraverso Python"
   ]
  },
  {
   "cell_type": "markdown",
   "id": "cd9dfbb8",
   "metadata": {},
   "source": [
    "--------------------------------------------------------------------------------------------------------------------------------"
   ]
  },
  {
   "cell_type": "code",
   "execution_count": 21,
   "id": "01cb5b4e",
   "metadata": {},
   "outputs": [
    {
     "data": {
      "text/plain": [
       "'\\nimport numpy as np\\n\\n# Genera un array casuale di numeri interi senza duplicati\\narr = np.random.choice(range(1, 100), size=10, replace = False) # replace = True => posso avere duplicati\\nprint(arr)\\n'"
      ]
     },
     "execution_count": 21,
     "metadata": {},
     "output_type": "execute_result"
    }
   ],
   "source": [
    "'''\n",
    "import numpy as np\n",
    "\n",
    "# Genera un array casuale di numeri interi senza duplicati\n",
    "arr = np.random.choice(range(1, 100), size=10, replace = False) # replace = True => posso avere duplicati\n",
    "print(arr)\n",
    "'''"
   ]
  },
  {
   "cell_type": "code",
   "execution_count": 22,
   "id": "b51cb670",
   "metadata": {},
   "outputs": [
    {
     "name": "stdout",
     "output_type": "stream",
     "text": [
      "[103 180  93  15 107  72 189  21 103 122  75  88 117 100 104]\n"
     ]
    }
   ],
   "source": [
    "import numpy as np\n",
    "\n",
    "# Impostiamo il seed del generatore di numeri casuali a un valore specifico\n",
    "# seed ci permette di ottenere sempre gli stessi valori randomici \n",
    "#ogni volta che mando in run il programma\n",
    "np.random.seed(42)\n",
    "\n",
    "# Genera un array casuale di dimensione 10 con valori compresi tra 1 e 199\n",
    "arr = np.random.randint(1, 200, size = 15)\n",
    "\n",
    "print(arr)"
   ]
  },
  {
   "cell_type": "code",
   "execution_count": 23,
   "id": "7d442984",
   "metadata": {},
   "outputs": [],
   "source": [
    "# Innanzitutto, se il vettore in input è unitario o vuoto, il vettore è già \"ordinato\"\n",
    "def merge_sort(arr):\n",
    "    if len(arr) <= 1:\n",
    "        return arr\n",
    "# se, invece, len(arr) > 1, innanzitutto prepariamo i due sub-arrays destro e sinistro\n",
    "    mid = len(arr) // 2 # usiamo la differenza senza resto // così evitiamo problemi in caso di liste dispari\n",
    "    left_half = arr[:mid]\n",
    "    right_half = arr[mid:]\n",
    "    \n",
    "#Dopodichè,richiamiamo ricorsivamente merge_sort per le due metà e combiniamo le due metà già ordinate\n",
    "    left_half = merge_sort(left_half)\n",
    "    right_half = merge_sort(right_half)\n",
    "\n",
    "    return merge(left_half, right_half)"
   ]
  },
  {
   "cell_type": "code",
   "execution_count": 24,
   "id": "3199e8f5",
   "metadata": {},
   "outputs": [],
   "source": [
    "# ora, definiamo una funzione di merging (fusione, unione...) delle due sottosequenze ordinate\n",
    "def merge(left, right):\n",
    "    merged = []\n",
    "    i = 0  # Indice per la lista left\n",
    "    j = 0  # Indice per la lista right\n",
    "\n",
    "    while i < len(left) and j < len(right):\n",
    "        if left[i] <= right[j]:\n",
    "            merged.append(left[i])\n",
    "            i += 1\n",
    "        else:\n",
    "            merged.append(right[j])\n",
    "            j += 1\n",
    "    merged.extend(left[i:])\n",
    "    merged.extend(right[j:])\n",
    "\n",
    "    return merged"
   ]
  },
  {
   "cell_type": "markdown",
   "id": "6e3730ae",
   "metadata": {},
   "source": [
    "--------------------------------------------------------------------------------------------------------------------------------"
   ]
  },
  {
   "cell_type": "markdown",
   "id": "3bb7f74f",
   "metadata": {},
   "source": [
    "Testiamo il funzionamento"
   ]
  },
  {
   "cell_type": "code",
   "execution_count": 25,
   "id": "8d0b6c8a",
   "metadata": {},
   "outputs": [
    {
     "name": "stdout",
     "output_type": "stream",
     "text": [
      "Vuoi ordinare in modo crescente (C) o decrescente (D)? C\n",
      "Il tuo array ordinato in modo crescente è:  [15, 21, 72, 75, 88, 93, 100, 103, 103, 104, 107, 117, 122, 180, 189]\n"
     ]
    }
   ],
   "source": [
    "user = input('Vuoi ordinare in modo crescente (C) o decrescente (D)? ')\n",
    "if user == 'C':\n",
    "    sorted_arr = merge_sort(arr)\n",
    "    print('Il tuo array ordinato in modo crescente è: ', sorted_arr)\n",
    "else:\n",
    "    sorted_arr = merge_sort(arr)\n",
    "    print('Il tuo array ordinato in modo crescente è: ', sorted_arr[::-1])"
   ]
  },
  {
   "cell_type": "code",
   "execution_count": 26,
   "id": "e44a4be5",
   "metadata": {},
   "outputs": [
    {
     "name": "stdout",
     "output_type": "stream",
     "text": [
      "Vuoi ordinare in modo crescente (C) o decrescente (D)? D\n",
      "Il tuo array ordinato in modo decresente è:  [189, 180, 122, 117, 107, 104, 103, 103, 100, 93, 88, 75, 72, 21, 15]\n"
     ]
    }
   ],
   "source": [
    "user = input('Vuoi ordinare in modo crescente (C) o decrescente (D)? ')\n",
    "if user == 'C':\n",
    "    sorted_arr = merge_sort(arr)\n",
    "    print('Il tuo array ordinato in modo crescente è: ', sorted_arr)\n",
    "else:\n",
    "    sorted_arr = merge_sort(arr)\n",
    "    print('Il tuo array ordinato in modo decresente è: ', sorted_arr[::-1])"
   ]
  },
  {
   "cell_type": "markdown",
   "id": "7e8bf404",
   "metadata": {},
   "source": [
    "OSS: la cella sopra può essere eliminata, in quanto usata solamente per testare l'ordinamento decrescente in un un unico run!"
   ]
  }
 ],
 "metadata": {
  "kernelspec": {
   "display_name": "Python 3 (ipykernel)",
   "language": "python",
   "name": "python3"
  },
  "language_info": {
   "codemirror_mode": {
    "name": "ipython",
    "version": 3
   },
   "file_extension": ".py",
   "mimetype": "text/x-python",
   "name": "python",
   "nbconvert_exporter": "python",
   "pygments_lexer": "ipython3",
   "version": "3.10.9"
  }
 },
 "nbformat": 4,
 "nbformat_minor": 5
}

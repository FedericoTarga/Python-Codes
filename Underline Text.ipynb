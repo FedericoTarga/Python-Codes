{
 "cells": [
  {
   "cell_type": "markdown",
   "id": "85ff3ee0",
   "metadata": {},
   "source": [
    "HOW TO UNDERLINE OUTPUTS WITH ANSI ESCAPE \n",
    "---"
   ]
  },
  {
   "cell_type": "code",
   "execution_count": 1,
   "id": "b48497cd",
   "metadata": {
    "scrolled": true
   },
   "outputs": [
    {
     "name": "stdout",
     "output_type": "stream",
     "text": [
      "------------------------------------\n",
      "| Date & Hour: 2023-08-13 15:46:18 |\n",
      "------------------------------------\n",
      "------------------------------------\n",
      "     |Author:  Federico Targa |\n",
      "------------------------------------\n"
     ]
    }
   ],
   "source": [
    "import pandas as pd\n",
    "from datetime import datetime\n",
    "current_date_time = datetime.now()\n",
    "formatted_date_time = current_date_time.strftime(\"%Y-%m-%d %H:%M:%S\")\n",
    "author = 'Federico Targa'\n",
    "print('------------------------------------')\n",
    "print(\"| Date & Hour:\", formatted_date_time,'|')\n",
    "print('------------------------------------')\n",
    "print('------------------------------------')\n",
    "print('     |Author: ', author                 ,'|')\n",
    "print('------------------------------------')"
   ]
  },
  {
   "cell_type": "code",
   "execution_count": 2,
   "id": "462e811c",
   "metadata": {
    "scrolled": true
   },
   "outputs": [
    {
     "data": {
      "text/html": [
       "<div>\n",
       "<style scoped>\n",
       "    .dataframe tbody tr th:only-of-type {\n",
       "        vertical-align: middle;\n",
       "    }\n",
       "\n",
       "    .dataframe tbody tr th {\n",
       "        vertical-align: top;\n",
       "    }\n",
       "\n",
       "    .dataframe thead th {\n",
       "        text-align: right;\n",
       "    }\n",
       "</style>\n",
       "<table border=\"1\" class=\"dataframe\">\n",
       "  <thead>\n",
       "    <tr style=\"text-align: right;\">\n",
       "      <th></th>\n",
       "      <th>ID</th>\n",
       "      <th>CASE_NUMBER</th>\n",
       "      <th>DATE</th>\n",
       "      <th>BLOCK</th>\n",
       "      <th>IUCR</th>\n",
       "      <th>PRIMARY_TYPE</th>\n",
       "      <th>DESCRIPTION</th>\n",
       "      <th>LOCATION_DESCRIPTION</th>\n",
       "      <th>ARREST</th>\n",
       "      <th>DOMESTIC</th>\n",
       "      <th>...</th>\n",
       "      <th>DISTRICT</th>\n",
       "      <th>WARD</th>\n",
       "      <th>COMMUNITY_AREA_NUMBER</th>\n",
       "      <th>FBICODE</th>\n",
       "      <th>X_COORDINATE</th>\n",
       "      <th>Y_COORDINATE</th>\n",
       "      <th>YEAR</th>\n",
       "      <th>LATITUDE</th>\n",
       "      <th>LONGITUDE</th>\n",
       "      <th>LOCATION</th>\n",
       "    </tr>\n",
       "  </thead>\n",
       "  <tbody>\n",
       "    <tr>\n",
       "      <th>0</th>\n",
       "      <td>3512276</td>\n",
       "      <td>HK587712</td>\n",
       "      <td>2004-08-28</td>\n",
       "      <td>047XX S KEDZIE AVE</td>\n",
       "      <td>890</td>\n",
       "      <td>THEFT</td>\n",
       "      <td>FROM BUILDING</td>\n",
       "      <td>SMALL RETAIL STORE</td>\n",
       "      <td>False</td>\n",
       "      <td>False</td>\n",
       "      <td>...</td>\n",
       "      <td>9</td>\n",
       "      <td>14.0</td>\n",
       "      <td>58.0</td>\n",
       "      <td>6</td>\n",
       "      <td>1155838.0</td>\n",
       "      <td>1873050.0</td>\n",
       "      <td>2004</td>\n",
       "      <td>41.807440</td>\n",
       "      <td>-87.703956</td>\n",
       "      <td>(41.8074405, -87.703955849)</td>\n",
       "    </tr>\n",
       "    <tr>\n",
       "      <th>1</th>\n",
       "      <td>3406613</td>\n",
       "      <td>HK456306</td>\n",
       "      <td>2004-06-26</td>\n",
       "      <td>009XX N CENTRAL PARK AVE</td>\n",
       "      <td>820</td>\n",
       "      <td>THEFT</td>\n",
       "      <td>$500 AND UNDER</td>\n",
       "      <td>OTHER</td>\n",
       "      <td>False</td>\n",
       "      <td>False</td>\n",
       "      <td>...</td>\n",
       "      <td>11</td>\n",
       "      <td>27.0</td>\n",
       "      <td>23.0</td>\n",
       "      <td>6</td>\n",
       "      <td>1152206.0</td>\n",
       "      <td>1906127.0</td>\n",
       "      <td>2004</td>\n",
       "      <td>41.898280</td>\n",
       "      <td>-87.716406</td>\n",
       "      <td>(41.898279962, -87.716405505)</td>\n",
       "    </tr>\n",
       "    <tr>\n",
       "      <th>2</th>\n",
       "      <td>8002131</td>\n",
       "      <td>HT233595</td>\n",
       "      <td>2011-04-04</td>\n",
       "      <td>043XX S WABASH AVE</td>\n",
       "      <td>820</td>\n",
       "      <td>THEFT</td>\n",
       "      <td>$500 AND UNDER</td>\n",
       "      <td>NURSING HOME/RETIREMENT HOME</td>\n",
       "      <td>False</td>\n",
       "      <td>False</td>\n",
       "      <td>...</td>\n",
       "      <td>2</td>\n",
       "      <td>3.0</td>\n",
       "      <td>38.0</td>\n",
       "      <td>6</td>\n",
       "      <td>1177436.0</td>\n",
       "      <td>1876313.0</td>\n",
       "      <td>2011</td>\n",
       "      <td>41.815933</td>\n",
       "      <td>-87.624642</td>\n",
       "      <td>(41.815933131, -87.624642127)</td>\n",
       "    </tr>\n",
       "  </tbody>\n",
       "</table>\n",
       "<p>3 rows × 21 columns</p>\n",
       "</div>"
      ],
      "text/plain": [
       "        ID CASE_NUMBER        DATE                     BLOCK IUCR  \\\n",
       "0  3512276    HK587712  2004-08-28        047XX S KEDZIE AVE  890   \n",
       "1  3406613    HK456306  2004-06-26  009XX N CENTRAL PARK AVE  820   \n",
       "2  8002131    HT233595  2011-04-04        043XX S WABASH AVE  820   \n",
       "\n",
       "  PRIMARY_TYPE     DESCRIPTION          LOCATION_DESCRIPTION  ARREST  \\\n",
       "0        THEFT   FROM BUILDING            SMALL RETAIL STORE   False   \n",
       "1        THEFT  $500 AND UNDER                         OTHER   False   \n",
       "2        THEFT  $500 AND UNDER  NURSING HOME/RETIREMENT HOME   False   \n",
       "\n",
       "   DOMESTIC  ...  DISTRICT  WARD  COMMUNITY_AREA_NUMBER  FBICODE X_COORDINATE  \\\n",
       "0     False  ...         9  14.0                   58.0        6    1155838.0   \n",
       "1     False  ...        11  27.0                   23.0        6    1152206.0   \n",
       "2     False  ...         2   3.0                   38.0        6    1177436.0   \n",
       "\n",
       "   Y_COORDINATE  YEAR   LATITUDE  LONGITUDE                       LOCATION  \n",
       "0     1873050.0  2004  41.807440 -87.703956    (41.8074405, -87.703955849)  \n",
       "1     1906127.0  2004  41.898280 -87.716406  (41.898279962, -87.716405505)  \n",
       "2     1876313.0  2011  41.815933 -87.624642  (41.815933131, -87.624642127)  \n",
       "\n",
       "[3 rows x 21 columns]"
      ]
     },
     "execution_count": 2,
     "metadata": {},
     "output_type": "execute_result"
    }
   ],
   "source": [
    "crime_data = pd.read_csv('ChicagoCrimeData.csv') # crime_data: \"dataframe\" name\n",
    "crime_data.head(3)"
   ]
  },
  {
   "cell_type": "markdown",
   "id": "e9389d27",
   "metadata": {},
   "source": [
    "UNDERLINED OUTPUT:\n",
    "- \\033 indicates the ANSI escape sequence\n",
    "\n",
    "- [4m indicates that the subsequent text will be underlined\n",
    "\n",
    "- \\033[0m restores the standard format"
   ]
  },
  {
   "cell_type": "code",
   "execution_count": 3,
   "id": "b82d3132",
   "metadata": {},
   "outputs": [
    {
     "name": "stdout",
     "output_type": "stream",
     "text": [
      "Missing values on Arrest column: 0\n"
     ]
    }
   ],
   "source": [
    "# Checking presence of missing values\n",
    "missing_values_count = crime_data['ARREST'].isnull().sum()\n",
    "print(\"Missing values on Arrest column:\", missing_values_count)"
   ]
  },
  {
   "cell_type": "code",
   "execution_count": 4,
   "id": "fecaae75",
   "metadata": {},
   "outputs": [
    {
     "name": "stdout",
     "output_type": "stream",
     "text": [
      "\u001b[4m The number of criminals arrested is: 163\u001b[0m\n"
     ]
    }
   ],
   "source": [
    "full_arrest_column = crime_data['ARREST'].value_counts()\n",
    "true_count = full_arrest_column[True]\n",
    "print(\"\\033[4m The number of criminals arrested is: {}\\033[0m\".format(true_count))"
   ]
  },
  {
   "cell_type": "code",
   "execution_count": 5,
   "id": "a8739aca",
   "metadata": {},
   "outputs": [
    {
     "name": "stdout",
     "output_type": "stream",
     "text": [
      "\u001b[4m The number of criminals arrested is: 370\u001b[0m\n"
     ]
    }
   ],
   "source": [
    "false_count = full_arrest_column[False]\n",
    "print(\"\\033[4m The number of criminals arrested is: {}\\033[0m\".format(false_count))"
   ]
  },
  {
   "cell_type": "code",
   "execution_count": 6,
   "id": "e003884e",
   "metadata": {},
   "outputs": [
    {
     "data": {
      "text/plain": [
       "True"
      ]
     },
     "execution_count": 6,
     "metadata": {},
     "output_type": "execute_result"
    }
   ],
   "source": [
    "list(crime_data.shape)[0] == (false_count + true_count) # Fast Check Over: OK"
   ]
  }
 ],
 "metadata": {
  "kernelspec": {
   "display_name": "Python 3 (ipykernel)",
   "language": "python",
   "name": "python3"
  },
  "language_info": {
   "codemirror_mode": {
    "name": "ipython",
    "version": 3
   },
   "file_extension": ".py",
   "mimetype": "text/x-python",
   "name": "python",
   "nbconvert_exporter": "python",
   "pygments_lexer": "ipython3",
   "version": "3.10.9"
  }
 },
 "nbformat": 4,
 "nbformat_minor": 5
}

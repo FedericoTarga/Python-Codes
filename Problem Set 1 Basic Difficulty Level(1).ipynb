{
 "cells": [
  {
   "cell_type": "markdown",
   "id": "256daf1a",
   "metadata": {},
   "source": [
    "PROBLEM SET 1 - Difficulty Level: BASIC\n",
    "---"
   ]
  },
  {
   "cell_type": "markdown",
   "id": "74d0e073",
   "metadata": {},
   "source": [
    "Topics : FOR LOOPS AND IF STATEMENTS\n",
    "--"
   ]
  },
  {
   "cell_type": "markdown",
   "id": "a92b2d75",
   "metadata": {},
   "source": [
    "! IMPORTANT !\n",
    "---\n",
    "Here you are going to find a slot of basic problems which aim to get a defined output. For each problem is also provided a solution. Remember that, in addition to the provided solutions, there many others ways to solve them. So, try to think by ourself and find out new possible alternatives!"
   ]
  },
  {
   "cell_type": "code",
   "execution_count": 1,
   "id": "4ca2fe3a",
   "metadata": {},
   "outputs": [
    {
     "name": "stdout",
     "output_type": "stream",
     "text": [
      "------------------------------------\n",
      "| Date & Hour: 2023-08-16 16:54:54 |\n",
      "------------------------------------\n",
      "------------------------------------\n",
      "    | Author:  Federico Targa |\n",
      "------------------------------------\n"
     ]
    }
   ],
   "source": [
    "from datetime import datetime\n",
    "current_date_time = datetime.now()\n",
    "formatted_date_time = current_date_time.strftime(\"%Y-%m-%d %H:%M:%S\")\n",
    "author = 'Federico Targa'\n",
    "print('------------------------------------')\n",
    "print(\"| Date & Hour:\", formatted_date_time,'|')\n",
    "print('------------------------------------')\n",
    "print('------------------------------------')\n",
    "print('    | Author: ', author                 ,'|')\n",
    "print('------------------------------------')"
   ]
  },
  {
   "cell_type": "markdown",
   "id": "5bdf2692",
   "metadata": {},
   "source": [
    "1) Write a function which takes a string as an input argument and print out it in the reverse order\n",
    "- EX. 1\n",
    "string1 = 'Kappa' # input\n",
    "string2 = 'appaK' #output\n",
    "\n",
    "\n",
    "- EX. 2\n",
    "string1 = 'Federico Targa' # input\n",
    "string2 = 'agraT ociredeF' #output\n",
    "\n",
    "and so on..."
   ]
  },
  {
   "cell_type": "markdown",
   "id": "815194ba",
   "metadata": {},
   "source": [
    "1st Method - Inverse Concatenation\n",
    "---"
   ]
  },
  {
   "cell_type": "code",
   "execution_count": 2,
   "id": "1563e046",
   "metadata": {},
   "outputs": [],
   "source": [
    "def invert_string(input_string): # defining a function which takes a string as an input\n",
    "    inverted_string = \"\"\n",
    "    for char in input_string:\n",
    "        inverted_string = char + inverted_string\n",
    "    return inverted_string"
   ]
  },
  {
   "cell_type": "markdown",
   "id": "30e986b4",
   "metadata": {},
   "source": [
    "TEST\n",
    "----"
   ]
  },
  {
   "cell_type": "code",
   "execution_count": 3,
   "id": "def2c064",
   "metadata": {},
   "outputs": [
    {
     "name": "stdout",
     "output_type": "stream",
     "text": [
      "The Inverted String is:\n",
      " !enotS 'nilloR A saW apaP\n"
     ]
    }
   ],
   "source": [
    "input_string = \"Papa Was A Rollin' Stone!\"\n",
    "inverted = invert_string(input_string)\n",
    "print('The Inverted String is:\\n', inverted)\n"
   ]
  },
  {
   "cell_type": "markdown",
   "id": "6bce61a0",
   "metadata": {},
   "source": [
    "2st Method - Slicing --> (PREFERABLE)\n",
    "---"
   ]
  },
  {
   "cell_type": "code",
   "execution_count": 4,
   "id": "e163baaa",
   "metadata": {},
   "outputs": [],
   "source": [
    "def invert_string(input_string):\n",
    "    inverted_string = input_string[::-1]\n",
    "    return inverted_string"
   ]
  },
  {
   "cell_type": "markdown",
   "id": "18c0d64d",
   "metadata": {},
   "source": [
    "TEST\n",
    "----"
   ]
  },
  {
   "cell_type": "code",
   "execution_count": 5,
   "id": "64a48191",
   "metadata": {},
   "outputs": [
    {
     "name": "stdout",
     "output_type": "stream",
     "text": [
      "The Inverted String is:\n",
      " !gniR eht ni lriG nworB\n"
     ]
    }
   ],
   "source": [
    "input_string = \"Brown Girl in the Ring!\"\n",
    "inverted = invert_string(input_string)\n",
    "print('The Inverted String is:\\n', inverted)"
   ]
  },
  {
   "cell_type": "markdown",
   "id": "f7d6c053",
   "metadata": {},
   "source": [
    "---------------"
   ]
  },
  {
   "cell_type": "markdown",
   "id": "6bbbedd4",
   "metadata": {},
   "source": [
    "2) Given an integre/float array and another integer/float element. The task is to find if the given element is present in array or not.\n",
    "- EX. 1\n",
    "Input: n = 4 , arr = [1,2,3,4] , x = 3\n",
    "\n",
    "Output: 2\n",
    "Explanation: There is one test case with array as [1,2,3,4] and element to be searched as 3.  Since 3 is present at index 2, output is 2.\n",
    "\n",
    "\n",
    "- EX. 2\n",
    "Input: n = 5, arr= [1,2,3,4,5], x = 5\n",
    "Output: 4\n",
    "Explanation: For array elements [1,2,3,4,5] element to be searched is 5 and it is at index 4. So, the output is 4.\n",
    "\n",
    "and so on..."
   ]
  },
  {
   "cell_type": "markdown",
   "id": "83dfd02c",
   "metadata": {},
   "source": [
    "1st METHOD\n",
    "---"
   ]
  },
  {
   "cell_type": "code",
   "execution_count": 6,
   "id": "79728f00",
   "metadata": {},
   "outputs": [],
   "source": [
    "def find_element_with_index(arr, target):\n",
    "    for index, num in enumerate(arr):\n",
    "        if num == target:\n",
    "            return index\n",
    "    return -1  # Ruturn -1 if the element hasn't been found"
   ]
  },
  {
   "cell_type": "markdown",
   "id": "5ed60354",
   "metadata": {},
   "source": [
    "TEST\n",
    "---\n"
   ]
  },
  {
   "cell_type": "code",
   "execution_count": 7,
   "id": "964c777b",
   "metadata": {},
   "outputs": [
    {
     "name": "stdout",
     "output_type": "stream",
     "text": [
      "15 is present at index 2.\n"
     ]
    }
   ],
   "source": [
    "array = [5, 10, 15, 20, 25] # input array\n",
    "x = 15 # element to find \n",
    "\n",
    "index = find_element_with_index(array, x)\n",
    "\n",
    "if index != -1:\n",
    "    print(f\"{x} is present at index {index}.\")\n",
    "else:\n",
    "    print(f\"{x} is not present.\")\n"
   ]
  },
  {
   "cell_type": "markdown",
   "id": "cd0aacaa",
   "metadata": {},
   "source": [
    "2st METHOD - Using List Method Called \"Index\"\n",
    "---"
   ]
  },
  {
   "cell_type": "code",
   "execution_count": 8,
   "id": "15f9dc75",
   "metadata": {},
   "outputs": [],
   "source": [
    "class Solution:\n",
    "    def search(self, arr, N, X):\n",
    "        # Using the index() method to find the element\n",
    "        try:\n",
    "            index = arr.index(X)\n",
    "            return index\n",
    "        except ValueError:\n",
    "            return -1"
   ]
  },
  {
   "cell_type": "markdown",
   "id": "ba46763d",
   "metadata": {},
   "source": [
    "TEST\n",
    "---"
   ]
  },
  {
   "cell_type": "code",
   "execution_count": 9,
   "id": "2d412a17",
   "metadata": {},
   "outputs": [
    {
     "name": "stdout",
     "output_type": "stream",
     "text": [
      "-0.2 is present at index 1.\n"
     ]
    }
   ],
   "source": [
    "array = [-6, -0.2 , 5.25, 11, 2.2, 20, 25, 15]\n",
    "x = -0.2\n",
    "\n",
    "sol = Solution()\n",
    "index = sol.search(array, len(array), x)\n",
    "\n",
    "if index != -1:\n",
    "    print(f\"{x} is present at index {index}.\")\n",
    "else:\n",
    "    print(f\"{x} is not present.\")"
   ]
  },
  {
   "cell_type": "markdown",
   "id": "d42e0867",
   "metadata": {},
   "source": [
    "3rd METHOD - Using for loop\n",
    "---"
   ]
  },
  {
   "cell_type": "code",
   "execution_count": 10,
   "id": "4f7f5000",
   "metadata": {},
   "outputs": [],
   "source": [
    "class Solution:\n",
    "    def search(self, arr, N, X):\n",
    "        for index, num in enumerate(arr):\n",
    "            if num == X:\n",
    "                return index\n",
    "        return -1"
   ]
  },
  {
   "cell_type": "markdown",
   "id": "d114afcf",
   "metadata": {},
   "source": [
    "TEST\n",
    "---"
   ]
  },
  {
   "cell_type": "code",
   "execution_count": 11,
   "id": "8d7290de",
   "metadata": {},
   "outputs": [
    {
     "name": "stdout",
     "output_type": "stream",
     "text": [
      "-30.42 is present in the array at index 6.\n"
     ]
    }
   ],
   "source": [
    "array = [-66.88, -4.73, 71.76, 62.7, -52.06, 15.92, -30.42, -42.25, 90.1, -4.42, -48.53, 94.09, 98.49, -19.48]\n",
    "x = -30.42\n",
    "sol = Solution()\n",
    "index = sol.search(array, len(array), x)\n",
    "\n",
    "if index != -1:\n",
    "    print(f\"{x} is present in the array at index {index}.\")\n",
    "else:\n",
    "    print(f\"{x} is not present in the array.\")"
   ]
  },
  {
   "cell_type": "code",
   "execution_count": 12,
   "id": "05beb3c7",
   "metadata": {},
   "outputs": [
    {
     "name": "stdout",
     "output_type": "stream",
     "text": [
      "32 is not present in the array.\n"
     ]
    }
   ],
   "source": [
    "array = [-66.88, -4.73, 71.76, 62.7, -52.06, 15.92, -30.42, -42.25, 90.1, -4.42, -48.53, 94.09, 98.49, -19.48]\n",
    "x = 32\n",
    "sol = Solution()\n",
    "index = sol.search(array, len(array), x)\n",
    "\n",
    "if index != -1:\n",
    "    print(f\"{x} is present in the array at index {index}.\")\n",
    "else:\n",
    "    print(f\"{x} is not present in the array.\")"
   ]
  },
  {
   "cell_type": "markdown",
   "id": "de6592fd",
   "metadata": {},
   "source": [
    "-----------------------------------------"
   ]
  },
  {
   "cell_type": "markdown",
   "id": "8d5aef2d",
   "metadata": {},
   "source": [
    "3) Given two arrays A and B of equal size N, the task is to find if given arrays are equal or not. Two arrays are said to be equal if both of them contain same set of elements, arrangements (or permutation) of elements may be different though.\n",
    "Note : If there are repetitions, then counts of repeated elements must also be same for two array to be equal.\n",
    "\n",
    "- EX. 1\n",
    "Input: N = 5 , A = [1,2,5,4,0] , B = [2,4,5,0,1]\n",
    "Output: 1\n",
    "Explanation: Both the array can be rearranged to [0,1,2,4,5]\n",
    "\n",
    "\n",
    "- EX. 2\n",
    "Input: n = 3, A = [1,2,5], B = [2, 4, 15]\n",
    "Output: 0\n",
    "Explanation: Explanation: A and B have only one common value.\n",
    "\n",
    "and so on..."
   ]
  },
  {
   "cell_type": "markdown",
   "id": "4acaef33",
   "metadata": {},
   "source": [
    "1st METHOD\n",
    "---"
   ]
  },
  {
   "cell_type": "markdown",
   "id": "6a8646e3",
   "metadata": {},
   "source": [
    "The approach described in the previous response is a hashing or frequency counting approach. It uses dictionaries to count the occurrences of each element in both arrays. By comparing the element counts between the two arrays, you can determine if the arrays are equal according to the given definition."
   ]
  },
  {
   "cell_type": "code",
   "execution_count": 13,
   "id": "a45f4336",
   "metadata": {},
   "outputs": [],
   "source": [
    "def are_arrays_equal(A, B):\n",
    "    if len(A) != len(B):\n",
    "        return False\n",
    "\n",
    "    # Create dictionaries to store element counts for both arrays\n",
    "    count_A = {}\n",
    "    count_B = {}\n",
    "\n",
    "    # Count the occurrences of elements in array A\n",
    "    for element in A:\n",
    "        if element in count_A:\n",
    "            count_A[element] += 1\n",
    "        else:\n",
    "            count_A[element] = 1\n",
    "\n",
    "    # Count the occurrences of elements in array B\n",
    "    for element in B:\n",
    "        if element in count_B:\n",
    "            count_B[element] += 1\n",
    "        else:\n",
    "            count_B[element] = 1\n",
    "\n",
    "    # Compare the element counts in both dictionaries\n",
    "    return count_A == count_B"
   ]
  },
  {
   "cell_type": "markdown",
   "id": "2449d5c6",
   "metadata": {},
   "source": [
    "TEST\n",
    "---"
   ]
  },
  {
   "cell_type": "code",
   "execution_count": 14,
   "id": "15ab5d89",
   "metadata": {},
   "outputs": [
    {
     "name": "stdout",
     "output_type": "stream",
     "text": [
      "Arrays are equal\n"
     ]
    }
   ],
   "source": [
    "A = [1, 2, 3, 4, 4]\n",
    "B = [4, 3, 2, 1, 4]\n",
    "\n",
    "if are_arrays_equal(A, B):\n",
    "    print(\"Arrays are equal\")\n",
    "else:\n",
    "    print(\"Arrays are not equal\")"
   ]
  },
  {
   "cell_type": "code",
   "execution_count": 15,
   "id": "d3e809a4",
   "metadata": {
    "scrolled": true
   },
   "outputs": [
    {
     "name": "stdout",
     "output_type": "stream",
     "text": [
      "Arrays are not equal\n"
     ]
    }
   ],
   "source": [
    "A = [1, 2, 3, 4, 4]\n",
    "B = [4, 3, 2, 1, 2.2]\n",
    "\n",
    "if are_arrays_equal(A, B):\n",
    "    print(\"Arrays are equal\")\n",
    "else:\n",
    "    print(\"Arrays are not equal\")"
   ]
  },
  {
   "cell_type": "markdown",
   "id": "257ca176",
   "metadata": {},
   "source": [
    "2st METHOD\n",
    "--"
   ]
  },
  {
   "cell_type": "code",
   "execution_count": 16,
   "id": "38ed49bd",
   "metadata": {},
   "outputs": [],
   "source": [
    "class Solution:\n",
    "    # Function to check if two arrays are equal or not.\n",
    "    def check(self, A, B, N):\n",
    "        if N != len(B):\n",
    "            return False\n",
    "\n",
    "        # Create dictionaries to store element counts for both arrays\n",
    "        count_A = {}\n",
    "        count_B = {}\n",
    "\n",
    "        # Count the occurrences of elements in array A\n",
    "        for element in A:\n",
    "            if element in count_A:\n",
    "                count_A[element] += 1\n",
    "            else:\n",
    "                count_A[element] = 1\n",
    "\n",
    "        # Count the occurrences of elements in array B\n",
    "        for element in B:\n",
    "            if element in count_B:\n",
    "                count_B[element] += 1\n",
    "            else:\n",
    "                count_B[element] = 1\n",
    "\n",
    "        # Compare the element counts in both dictionaries\n",
    "        return count_A == count_B"
   ]
  },
  {
   "cell_type": "markdown",
   "id": "a5d9bea9",
   "metadata": {},
   "source": [
    "TEST\n",
    "--"
   ]
  },
  {
   "cell_type": "code",
   "execution_count": 17,
   "id": "39b43d7d",
   "metadata": {},
   "outputs": [
    {
     "name": "stdout",
     "output_type": "stream",
     "text": [
      "Arrays are not equal\n"
     ]
    }
   ],
   "source": [
    "A = [1, 2, 3, 4, 4]\n",
    "B = [4, 3, 2, 1, 2.2]\n",
    "\n",
    "if are_arrays_equal(A, B):\n",
    "    print(\"Arrays are equal\")\n",
    "else:\n",
    "    print(\"Arrays are not equal\")"
   ]
  },
  {
   "cell_type": "code",
   "execution_count": 18,
   "id": "9b3b8f6b",
   "metadata": {},
   "outputs": [
    {
     "name": "stdout",
     "output_type": "stream",
     "text": [
      "Arrays are equal\n"
     ]
    }
   ],
   "source": [
    "A = [-5, 1, 2, 3, 4, 4, 64, -0.25]\n",
    "B = [4, -5, 3, 2, 1, 4, 64 ,-0.25]\n",
    "\n",
    "if are_arrays_equal(A, B):\n",
    "    print(\"Arrays are equal\")\n",
    "else:\n",
    "    print(\"Arrays are not equal\")"
   ]
  },
  {
   "cell_type": "markdown",
   "id": "af8bee9b",
   "metadata": {},
   "source": [
    "---"
   ]
  },
  {
   "cell_type": "markdown",
   "id": "07c78aa7",
   "metadata": {},
   "source": [
    "4) Given an array of N integers/floats. Find the first element that occurs at least K number of times\n",
    "\n",
    "- EX. 1\n",
    "Input : N = 7, K = 2, A = [1, 7, 4, 3, 4, 8, 7]\n",
    "Output : 4\n",
    "Explanation: Both 7 and 4 occur 2 times, but 4 is first that occurs 2 times.\n",
    "As at index = 4, 4 has occurred at least 2 times whereas at index = 6, 7 has occurred atleast 2 times.\n",
    "\n",
    "\n",
    "You don't need to read input or print anything. Your task is to complete the function firstElementKTime() which takes the array A, its size N, and an integer K as inputs and returns the required answer. If the answer is not present in the array, return -1."
   ]
  },
  {
   "cell_type": "markdown",
   "id": "92d09cd7",
   "metadata": {},
   "source": [
    "1st METHOD\n",
    "---"
   ]
  },
  {
   "cell_type": "raw",
   "id": "b9554d78",
   "metadata": {},
   "source": [
    "snippet code of function firstElementKTime()\n",
    "\n",
    "class Solution:\n",
    "    def firstElementKTime(self,  a, n, k):\n",
    "        # code here "
   ]
  },
  {
   "cell_type": "code",
   "execution_count": 19,
   "id": "ecdb7833",
   "metadata": {},
   "outputs": [],
   "source": [
    "class Solution:\n",
    "    def firstElementKTime(self, a, n, k):\n",
    "        element_count = {}  # Dictionary to store element counts\n",
    "\n",
    "        for element in a:\n",
    "            if element in element_count:\n",
    "                element_count[element] += 1\n",
    "            else:\n",
    "                element_count[element] = 1\n",
    "\n",
    "            if element_count[element] == k:\n",
    "                return element\n",
    "\n",
    "        return -1  # Return -1 if no such element is found"
   ]
  },
  {
   "cell_type": "markdown",
   "id": "f3b7428b",
   "metadata": {},
   "source": [
    "TEST\n",
    "--\n"
   ]
  },
  {
   "cell_type": "code",
   "execution_count": 20,
   "id": "5b090008",
   "metadata": {},
   "outputs": [
    {
     "name": "stdout",
     "output_type": "stream",
     "text": [
      "First element occurring at least 2 times: -55\n"
     ]
    }
   ],
   "source": [
    "array = [0.257, 88.1, -55, -55, 3, 1, 4, 3, 2, 2, 1, 5]\n",
    "N = len(array)\n",
    "K = 2\n",
    "\n",
    "sol = Solution()\n",
    "result = sol.firstElementKTime(array, N, K)\n",
    "\n",
    "if result != -1:\n",
    "    print(\"First element occurring at least\", K, \"times:\", result)\n",
    "else:\n",
    "    print(\"No such element found\")"
   ]
  },
  {
   "cell_type": "code",
   "execution_count": 21,
   "id": "366a940a",
   "metadata": {},
   "outputs": [
    {
     "name": "stdout",
     "output_type": "stream",
     "text": [
      "No such element found\n"
     ]
    }
   ],
   "source": [
    "array = [0.257, 88.1, -55, 5, 1.75]\n",
    "N = len(array)\n",
    "K = 2\n",
    "\n",
    "sol = Solution()\n",
    "result = sol.firstElementKTime(array, N, K)\n",
    "\n",
    "if result != -1:\n",
    "    print(\"First element occurring at least\", K, \"times:\", result)\n",
    "else:\n",
    "    print(\"No such element found\")"
   ]
  },
  {
   "cell_type": "markdown",
   "id": "2683bd28",
   "metadata": {},
   "source": [
    "2nd METHOD\n",
    "--\n",
    "You can solve this problem using a hashmap to keep track of the frequency of each element in the array."
   ]
  },
  {
   "cell_type": "code",
   "execution_count": 22,
   "id": "df8d518f",
   "metadata": {},
   "outputs": [],
   "source": [
    "def find_element_with_frequency(arr, k):\n",
    "    freq_map = {}  # Create an empty hashmap to store element frequencies\n",
    "    \n",
    "    for num in arr:\n",
    "        if num in freq_map:\n",
    "            freq_map[num] += 1\n",
    "        else:\n",
    "            freq_map[num] = 1\n",
    "        \n",
    "        if freq_map[num] == k:\n",
    "            return num\n",
    "    \n",
    "    return None  # No element with frequency >= k found"
   ]
  },
  {
   "cell_type": "markdown",
   "id": "9888b2fd",
   "metadata": {},
   "source": [
    "TEST\n",
    "--"
   ]
  },
  {
   "cell_type": "code",
   "execution_count": 23,
   "id": "698cddae",
   "metadata": {},
   "outputs": [
    {
     "name": "stdout",
     "output_type": "stream",
     "text": [
      "The first element that occurs at least 3 times is: 3\n"
     ]
    }
   ],
   "source": [
    "arr = [3, 1, 4, 3, 2, 4, 5, 2, 3]\n",
    "k = 3\n",
    "result = find_element_with_frequency(arr, k)\n",
    "if result is not None:\n",
    "    print(f\"The first element that occurs at least {k} times is: {result}\")\n",
    "else:\n",
    "    print(f\"No element occurs at least {k} times in the array.\")"
   ]
  },
  {
   "cell_type": "code",
   "execution_count": 24,
   "id": "82014c89",
   "metadata": {},
   "outputs": [
    {
     "name": "stdout",
     "output_type": "stream",
     "text": [
      "No element occurs at least 1.75 times in the array.\n"
     ]
    }
   ],
   "source": [
    "arr = [0.257, 88.1, -55, 5, 1.75]\n",
    "k = 1.75\n",
    "result = find_element_with_frequency(arr, k)\n",
    "if result is not None:\n",
    "    print(f\"The first element that occurs at least {k} times is: {result}\")\n",
    "else:\n",
    "    print(f\"No element occurs at least {k} times in the array.\")"
   ]
  },
  {
   "cell_type": "markdown",
   "id": "dacc969b",
   "metadata": {},
   "source": [
    "---"
   ]
  },
  {
   "cell_type": "markdown",
   "id": "64d846ed",
   "metadata": {},
   "source": [
    "5) Given two arrays A and B of size n and m respectively. The task is to find the number of elements in the union between these two arrays.\n",
    "\n",
    "Union of the two arrays can be defined as the set containing distinct elements from both the arrays. If there are repetitions, then only one occurrence of element should be printed in the union.\n",
    "\n",
    "Note : Elements are not necessarily distinct."
   ]
  },
  {
   "cell_type": "markdown",
   "id": "56b3ecc5",
   "metadata": {},
   "source": [
    "- EX. 1\n",
    "Input\n",
    "n = 5, m = 3 , A = [1 2 3 4 5] , B = [1,2,3]\n",
    "Output: 5\n",
    "Explanation: \n",
    "1, 2, 3, 4 and 5 are the elements which comes in the union setof both arrays. So count is 5.\n",
    "\n",
    "- EX. 2\n",
    "Input: n = 6 , m = 2 , A = [85 25 1 32 54 6] , B = [85 2] \n",
    "Output: 7\n",
    "Explanation: \n",
    "85, 25, 1, 32, 54, 6, and 2 are the elements which comes in the union set of both arrays. So count is 7."
   ]
  },
  {
   "cell_type": "markdown",
   "id": "77b846f3",
   "metadata": {},
   "source": [
    "1st METHOD\n",
    "---\n",
    "To find the number of elements in the union of two arrays a[] and b[], you can follow these steps:\n",
    "\n",
    "- Create a set to store the distinct elements from both arrays.\n",
    "- Traverse through both arrays and insert each element into the set.\n",
    "- Finally, return the size of the set, which represents the number of distinct elements in the union of the two arrays."
   ]
  },
  {
   "cell_type": "code",
   "execution_count": 25,
   "id": "f4844f48",
   "metadata": {},
   "outputs": [],
   "source": [
    "def count_union_elements(a, b):\n",
    "    # Create a set to store distinct elements\n",
    "    union_set = set()\n",
    "\n",
    "    # Traverse array 'a' and add elements to the set\n",
    "    for num in a:\n",
    "        union_set.add(num)\n",
    "\n",
    "    # Traverse array 'b' and add elements to the set\n",
    "    for num in b:\n",
    "        union_set.add(num)\n",
    "\n",
    "    # Return the size of the set\n",
    "    return len(union_set)"
   ]
  },
  {
   "cell_type": "markdown",
   "id": "81fbb683",
   "metadata": {},
   "source": [
    "TEST\n",
    "--"
   ]
  },
  {
   "cell_type": "code",
   "execution_count": 26,
   "id": "aa575666",
   "metadata": {},
   "outputs": [
    {
     "name": "stdout",
     "output_type": "stream",
     "text": [
      "Number of elements in the union: 9\n"
     ]
    }
   ],
   "source": [
    "a = [1, 2, 2, 3, 4.5]\n",
    "b = [3, 4, 5, 6.6, 55, 89]\n",
    "# Calculate and print the number of elements in the union\n",
    "result = count_union_elements(a, b)\n",
    "print(\"Number of elements in the union:\", result)"
   ]
  },
  {
   "cell_type": "code",
   "execution_count": 27,
   "id": "26e4d827",
   "metadata": {},
   "outputs": [
    {
     "name": "stdout",
     "output_type": "stream",
     "text": [
      "Number of elements in the union: 0\n"
     ]
    }
   ],
   "source": [
    "a = []\n",
    "b = []\n",
    "\n",
    "# Calculate and print the number of elements in the union\n",
    "result = count_union_elements(a, b)\n",
    "print(\"Number of elements in the union:\", result)"
   ]
  },
  {
   "cell_type": "markdown",
   "id": "949cd82e",
   "metadata": {},
   "source": [
    "2st METHOD\n",
    "---                                    "
   ]
  },
  {
   "cell_type": "code",
   "execution_count": 28,
   "id": "4a4c4b5f",
   "metadata": {},
   "outputs": [],
   "source": [
    "class Solution:    \n",
    "    # Function to return the count of number of elements in the union of two arrays.\n",
    "    def doUnion(self, a, n, b, m):\n",
    "        # Create a set to store distinct elements\n",
    "        union_set = set()\n",
    "\n",
    "        # Traverse array 'a' and add elements to the set\n",
    "        for num in a:\n",
    "            union_set.add(num)\n",
    "\n",
    "        # Traverse array 'b' and add elements to the set\n",
    "        for num in b:\n",
    "            union_set.add(num)\n",
    "\n",
    "        # Return the size of the set\n",
    "        return len(union_set)"
   ]
  },
  {
   "cell_type": "markdown",
   "id": "8f6ec7aa",
   "metadata": {},
   "source": [
    "TEST\n",
    "---"
   ]
  },
  {
   "cell_type": "code",
   "execution_count": 29,
   "id": "d9cb6c57",
   "metadata": {},
   "outputs": [
    {
     "name": "stdout",
     "output_type": "stream",
     "text": [
      "Number of elements in the union: 9\n"
     ]
    }
   ],
   "source": [
    "a = [1, 2, 2, 3, 4.5]\n",
    "b = [3, 4, 5, 6.6, 55, 89]\n",
    "solution = Solution()\n",
    "result = solution.doUnion(a, len(a), b, len(b))\n",
    "print(\"Number of elements in the union:\", result)"
   ]
  },
  {
   "cell_type": "code",
   "execution_count": 30,
   "id": "aa04d78b",
   "metadata": {
    "scrolled": false
   },
   "outputs": [
    {
     "name": "stdout",
     "output_type": "stream",
     "text": [
      "Number of elements in the union: 0\n"
     ]
    }
   ],
   "source": [
    "a = []\n",
    "b = []\n",
    "solution = Solution()\n",
    "result = solution.doUnion(a, len(a), b, len(b))\n",
    "print(\"Number of elements in the union:\", result)"
   ]
  },
  {
   "cell_type": "markdown",
   "id": "2a874ea4",
   "metadata": {},
   "source": [
    "---"
   ]
  },
  {
   "cell_type": "markdown",
   "id": "5c63565f",
   "metadata": {},
   "source": [
    "6) Given a non-negative integer N. The task is to check if N is a power of 2. More formally, check if N can be expressed as 2^x for some x.\n",
    "- EX. 1\n",
    "Input: N = 1\n",
    "Output: YES\n",
    "Explanation:1 is equal to 2 raised to 0 (20 = 1).\n",
    "\n",
    "- EX. 2\n",
    "Input: N = 98\n",
    "Output: NO\n",
    "Explanation: 98 cannot be obtained by any power of 2."
   ]
  },
  {
   "cell_type": "markdown",
   "id": "876c6564",
   "metadata": {},
   "source": [
    "1st METHOD\n",
    "---"
   ]
  },
  {
   "cell_type": "code",
   "execution_count": 31,
   "id": "a2e9d76f",
   "metadata": {},
   "outputs": [],
   "source": [
    "class Solution:\n",
    "    # Function to check if given number n is a power of two.\n",
    "    def isPowerofTwo(self, n):\n",
    "        if n <= 0:\n",
    "            return False\n",
    "        while n % 2 == 0:\n",
    "            n /= 2\n",
    "        return n == 1"
   ]
  },
  {
   "cell_type": "markdown",
   "id": "cb846278",
   "metadata": {},
   "source": [
    "TEST\n",
    "--\n"
   ]
  },
  {
   "cell_type": "code",
   "execution_count": 32,
   "id": "9c862502",
   "metadata": {},
   "outputs": [
    {
     "name": "stdout",
     "output_type": "stream",
     "text": [
      "YES\n"
     ]
    }
   ],
   "source": [
    "solution = Solution()\n",
    "N = 1\n",
    "if solution.isPowerofTwo(N):\n",
    "    print(\"YES\")\n",
    "else:\n",
    "    print(\"NO\")"
   ]
  },
  {
   "cell_type": "code",
   "execution_count": 33,
   "id": "39421b72",
   "metadata": {},
   "outputs": [
    {
     "name": "stdout",
     "output_type": "stream",
     "text": [
      "NO\n"
     ]
    }
   ],
   "source": [
    "solution = Solution()\n",
    "N = 2045\n",
    "if solution.isPowerofTwo(N):\n",
    "    print(\"YES\")\n",
    "else:\n",
    "    print(\"NO\")\n"
   ]
  },
  {
   "cell_type": "markdown",
   "id": "15ef2f0d",
   "metadata": {},
   "source": [
    "2nd METHOD\n",
    "--"
   ]
  },
  {
   "cell_type": "code",
   "execution_count": 34,
   "id": "d14c9641",
   "metadata": {},
   "outputs": [],
   "source": [
    "def is_power_of_2(N):\n",
    "    if N <= 0:\n",
    "        return False\n",
    "    # Use bitwise AND operation to check if only one bit is set\n",
    "    return (N & (N - 1)) == 0"
   ]
  },
  {
   "cell_type": "markdown",
   "id": "7ae028a7",
   "metadata": {},
   "source": [
    "TEST\n",
    "---\n"
   ]
  },
  {
   "cell_type": "code",
   "execution_count": 35,
   "id": "930d33de",
   "metadata": {},
   "outputs": [
    {
     "name": "stdout",
     "output_type": "stream",
     "text": [
      "YES\n"
     ]
    }
   ],
   "source": [
    "N = 1\n",
    "if is_power_of_2(N):\n",
    "    print(\"YES\")\n",
    "else:\n",
    "    print(\"NO\")"
   ]
  },
  {
   "cell_type": "code",
   "execution_count": 36,
   "id": "53932a4c",
   "metadata": {},
   "outputs": [
    {
     "name": "stdout",
     "output_type": "stream",
     "text": [
      "NO\n"
     ]
    }
   ],
   "source": [
    "N = 10025\n",
    "if is_power_of_2(N):\n",
    "    print(\"YES\")\n",
    "else:\n",
    "    print(\"NO\")"
   ]
  },
  {
   "cell_type": "code",
   "execution_count": 37,
   "id": "496cbeed",
   "metadata": {},
   "outputs": [
    {
     "name": "stdout",
     "output_type": "stream",
     "text": [
      "YES\n"
     ]
    }
   ],
   "source": [
    "N = 16\n",
    "if is_power_of_2(N):\n",
    "    print(\"YES\")\n",
    "else:\n",
    "    print(\"NO\")"
   ]
  },
  {
   "cell_type": "markdown",
   "id": "ac3cd500",
   "metadata": {},
   "source": [
    "---"
   ]
  },
  {
   "cell_type": "markdown",
   "id": "96e3c7a7",
   "metadata": {},
   "source": [
    "7) Given a singly linked list. The task is to find the length of the linked list, where length is defined as the number of nodes in the linked list.\n",
    "\n",
    "- EX.1\n",
    "Input: LinkedList: 1->2->3->4->5\n",
    "Output: 5\n",
    "Explanation: Count of nodes in the linked list is 5, which is its length.\n",
    "\n",
    "- EX.2 \n",
    "Input: LinkedList: 2->4->6->7->5->1->0\n",
    "Output: 7\n",
    "Explanation: Count of nodes in the linked list is 7. Hence, the output is 7."
   ]
  },
  {
   "cell_type": "markdown",
   "id": "baf69531",
   "metadata": {},
   "source": [
    "1st METHOD\n",
    "--"
   ]
  },
  {
   "cell_type": "code",
   "execution_count": 38,
   "id": "09cc92e7",
   "metadata": {},
   "outputs": [
    {
     "name": "stdout",
     "output_type": "stream",
     "text": [
      "Length of the linked list: 5\n"
     ]
    }
   ],
   "source": [
    "def get_linked_list_length(linked_list):\n",
    "    return len(linked_list)\n",
    "\n",
    "# Example usage\n",
    "if __name__ == \"__main__\":\n",
    "    # Create a linked list using a list of values\n",
    "    linked_list = [1, 2, 3, 4, 5]\n",
    "\n",
    "    length = get_linked_list_length(linked_list)\n",
    "    print(\"Length of the linked list:\", length)"
   ]
  },
  {
   "cell_type": "markdown",
   "id": "2b607aaf",
   "metadata": {},
   "source": [
    "2st - METHOD (ADVANCED)\n",
    "---"
   ]
  },
  {
   "cell_type": "code",
   "execution_count": 39,
   "id": "22697bb7",
   "metadata": {},
   "outputs": [
    {
     "name": "stdout",
     "output_type": "stream",
     "text": [
      "Length of the linked list: 5\n"
     ]
    }
   ],
   "source": [
    "class Node:\n",
    "    def __init__(self, data):\n",
    "        self.data = data\n",
    "        self.next = None\n",
    "\n",
    "class Solution:\n",
    "    # Function to count nodes of a linked list.\n",
    "    def getCount(self, head_node):\n",
    "        count = 0\n",
    "        current = head_node\n",
    "        while current:\n",
    "            count += 1\n",
    "            current = current.next\n",
    "        return count\n",
    "\n",
    "# Creating a linked list\n",
    "llist = Node(1)\n",
    "llist.next = Node(2)\n",
    "llist.next.next = Node(3)\n",
    "llist.next.next.next = Node(4)\n",
    "llist.next.next.next.next = Node(5)\n",
    "\n",
    "# Creating an instance of the Solution class\n",
    "sol = Solution()\n",
    "\n",
    "# Finding the length of the linked list using the getCount function\n",
    "length = sol.getCount(llist)\n",
    "print(\"Length of the linked list:\", length)\n"
   ]
  },
  {
   "cell_type": "markdown",
   "id": "a1315bfe",
   "metadata": {},
   "source": [
    "8) Consider the event \"The sum of the two dice is 7\". What is the likelihood of this event?\n",
    "\n",
    "Explanation: \n",
    "\n",
    "When rolling two six-sided dice, there are a total of 36 possible outcomes since each die has 6 possible outcomes (1, 2, 3, 4, 5, or 6), and the number of possible outcomes for the pair of dice is 6 * 6 = 36.\n",
    "\n",
    "Out of these 36 possible outcomes, there are 6 outcomes where the sum of the two dice is 7:\n",
    "\n",
    "- (1, 6)\n",
    "- (2, 5)\n",
    "- (3, 4)\n",
    "- (4, 3)\n",
    "- (5, 2)\n",
    "- (6, 1)\n",
    "\n",
    "The likelihood (probability) of the event \"the sum of the two dice is 7\" is given by the ratio of favorable outcomes to the total possible outcomes:\n",
    "\n",
    "Probability = (Number of Favorable Outcomes) / (Total Possible Outcomes)\n",
    "Probability = 6 / 36\n",
    "Probability = 1 / 6\n",
    "\n",
    "So, the likelihood of the event that the sum of the two dice is 7 is 1/6, which is approximately 0.1667 or 16.67%."
   ]
  },
  {
   "cell_type": "code",
   "execution_count": 40,
   "id": "16cb3459",
   "metadata": {},
   "outputs": [
    {
     "name": "stdout",
     "output_type": "stream",
     "text": [
      "Sum of dice: 2, Likelihood: 1/36\n",
      "Sum of dice: 3, Likelihood: 1/18\n",
      "Sum of dice: 4, Likelihood: 1/12\n",
      "Sum of dice: 5, Likelihood: 1/9\n",
      "Sum of dice: 6, Likelihood: 5/36\n",
      "Sum of dice: 7, Likelihood: 1/6\n",
      "Sum of dice: 8, Likelihood: 5/36\n",
      "Sum of dice: 9, Likelihood: 1/9\n",
      "Sum of dice: 10, Likelihood: 1/12\n",
      "Sum of dice: 11, Likelihood: 1/18\n",
      "Sum of dice: 12, Likelihood: 1/36\n"
     ]
    }
   ],
   "source": [
    "from fractions import Fraction\n",
    "\n",
    "def compute_dice_likelihood():\n",
    "    total_possible_outcomes = 0\n",
    "    event_counts = [0] * 11  # Initialize a list to count occurrences of each event (2 to 12)\n",
    "\n",
    "    for die1 in range(1, 7):\n",
    "        for die2 in range(1, 7):\n",
    "            total_possible_outcomes += 1\n",
    "            event_sum = die1 + die2\n",
    "            event_counts[event_sum - 2] += 1  # Increment the count for the corresponding event\n",
    "\n",
    "    likelihoods = [Fraction(count, total_possible_outcomes) for count in event_counts]\n",
    "    return likelihoods\n",
    "\n",
    "if __name__ == \"__main__\":\n",
    "    likelihoods = compute_dice_likelihood()\n",
    "\n",
    "    for event_sum, likelihood in enumerate(likelihoods, start=2):\n",
    "        print(f\"Sum of dice: {event_sum}, Likelihood: {likelihood}\")\n"
   ]
  },
  {
   "cell_type": "markdown",
   "id": "3a946bdb",
   "metadata": {},
   "source": [
    "You can underline a specific output in the console by using escape sequences for formatting. In most console environments, you can use the ANSI escape codes to modify the text appearance. Here's how you can modify the code to underline a specific output:\n",
    "\n",
    "I'm going to underline the output releted to SUM OF DICE = 7 (See the main problem above)"
   ]
  },
  {
   "cell_type": "code",
   "execution_count": 41,
   "id": "77046be9",
   "metadata": {},
   "outputs": [
    {
     "name": "stdout",
     "output_type": "stream",
     "text": [
      "Sum of dice: 2, Likelihood: 1/36\n",
      "Sum of dice: 3, Likelihood: 1/18\n",
      "Sum of dice: 4, Likelihood: 1/12\n",
      "Sum of dice: 5, Likelihood: 1/9\n",
      "Sum of dice: 6, Likelihood: 5/36\n",
      "Sum of dice: \u001b[4m7\u001b[0m, Likelihood: \u001b[4m1/6\u001b[0m\n",
      "Sum of dice: 8, Likelihood: 5/36\n",
      "Sum of dice: 9, Likelihood: 1/9\n",
      "Sum of dice: 10, Likelihood: 1/12\n",
      "Sum of dice: 11, Likelihood: 1/18\n",
      "Sum of dice: 12, Likelihood: 1/36\n"
     ]
    }
   ],
   "source": [
    "from fractions import Fraction\n",
    "\n",
    "def compute_dice_likelihood():\n",
    "    total_possible_outcomes = 0\n",
    "    event_counts = [0] * 11  # Initialize a list to count occurrences of each event (2 to 12)\n",
    "\n",
    "    for die1 in range(1, 7):\n",
    "        for die2 in range(1, 7):\n",
    "            total_possible_outcomes += 1\n",
    "            event_sum = die1 + die2\n",
    "            event_counts[event_sum - 2] += 1  # Increment the count for the corresponding event\n",
    "\n",
    "    likelihoods = [Fraction(count, total_possible_outcomes) for count in event_counts]\n",
    "    return likelihoods\n",
    "\n",
    "if __name__ == \"__main__\":\n",
    "    likelihoods = compute_dice_likelihood()\n",
    "\n",
    "    underline_index = 5  # Index to underline (for example, index 5 corresponds to sum 7)\n",
    "    \n",
    "    for event_sum, likelihood in enumerate(likelihoods, start=2):\n",
    "        formatted_likelihood = f\"\\033[4m{likelihood}\\033[0m\" if event_sum == underline_index + 2 else likelihood\n",
    "        formatted_event_sum = f\"\\033[4m{event_sum}\\033[0m\" if event_sum == underline_index + 2 else event_sum\n",
    "        print(f\"Sum of dice: {formatted_event_sum}, Likelihood: {formatted_likelihood}\")\n"
   ]
  },
  {
   "cell_type": "markdown",
   "id": "dbb9d049",
   "metadata": {},
   "source": [
    "9) Write a program that, given a number, writes all its divisors.\n",
    "(Keep in mind that in Python, the remainder of division is calculated using the % operator, for example, 5%2=1)"
   ]
  },
  {
   "cell_type": "markdown",
   "id": "4abbeffd",
   "metadata": {},
   "source": [
    "1st METHOD\n",
    "--"
   ]
  },
  {
   "cell_type": "code",
   "execution_count": 42,
   "id": "526a2046",
   "metadata": {
    "scrolled": true
   },
   "outputs": [
    {
     "name": "stdout",
     "output_type": "stream",
     "text": [
      "Enter the number: \n",
      "18\n",
      "The divisor/s of given number is/are: \n",
      "1\n",
      "2\n",
      "3\n",
      "6\n",
      "9\n",
      "18\n"
     ]
    }
   ],
   "source": [
    "print(\"Enter the number: \")\n",
    "n = int(input())\n",
    "print(\"The divisor/s of given number is/are: \")\n",
    "for i in range(1, n + 1):\n",
    "    if n % i == 0:\n",
    "        print(i)"
   ]
  },
  {
   "cell_type": "markdown",
   "id": "e2d5bc3a",
   "metadata": {},
   "source": [
    "2nd METHOD\n",
    "--"
   ]
  },
  {
   "cell_type": "code",
   "execution_count": 43,
   "id": "9b791f82",
   "metadata": {},
   "outputs": [
    {
     "name": "stdout",
     "output_type": "stream",
     "text": [
      "Enter an integer number: \n",
      "102\n",
      "The divisor/s of given number is/are:  [1, 2, 3, 6, 17, 34, 51, 102]\n"
     ]
    }
   ],
   "source": [
    "print(\"Enter an integer number: \")\n",
    "n = int(input())\n",
    "\n",
    "divisors = [] #allocate an empty list\n",
    "\n",
    "for i in range(1, n + 1):\n",
    "    if n % i == 0:\n",
    "        divisors.append(i) # list filling via append method\n",
    "        \n",
    "print(\"The divisor/s of given number is/are: \", divisors )    "
   ]
  },
  {
   "cell_type": "markdown",
   "id": "e33aa6f5",
   "metadata": {},
   "source": [
    "We can also improve our code in order to get all divisors number and eventually print out if it is a prime number"
   ]
  },
  {
   "cell_type": "markdown",
   "id": "60aee736",
   "metadata": {},
   "source": [
    "TEST 1: prime number\n",
    "--"
   ]
  },
  {
   "cell_type": "code",
   "execution_count": 44,
   "id": "db56f404",
   "metadata": {
    "scrolled": true
   },
   "outputs": [
    {
     "name": "stdout",
     "output_type": "stream",
     "text": [
      "Enter an integer number: \n",
      "19\n",
      "Here the divisors: \n",
      "[1, 19]\n",
      "The number 19 is prime.\n"
     ]
    }
   ],
   "source": [
    "print(\"Enter an integer number: \")\n",
    "n = int(input())\n",
    "print(\"Here the divisors: \")\n",
    "divisors = []\n",
    "for i in range(1, n + 1):\n",
    "    if n % i == 0:\n",
    "        divisors.append(i)\n",
    "        if i != 1 and i != n:\n",
    "            is_prime = False\n",
    "print(divisors)\n",
    "if len(divisors) == 2:\n",
    "    print(f\"The number {n} is prime.\")\n",
    "else:\n",
    "    print(f\"The number {n} is not prime.\")\n"
   ]
  },
  {
   "cell_type": "markdown",
   "id": "dcb485bf",
   "metadata": {},
   "source": [
    "TEST 2: not prime number\n",
    "--"
   ]
  },
  {
   "cell_type": "code",
   "execution_count": 45,
   "id": "2e967f20",
   "metadata": {},
   "outputs": [
    {
     "name": "stdout",
     "output_type": "stream",
     "text": [
      "Enter an integer number: \n",
      "100\n",
      "Here the divisors: \n",
      "[1, 2, 4, 5, 10, 20, 25, 50, 100]\n",
      "The number 100 is not prime.\n"
     ]
    }
   ],
   "source": [
    "print(\"Enter an integer number: \")\n",
    "n = int(input())\n",
    "print(\"Here the divisors: \")\n",
    "divisors = []\n",
    "for i in range(1, n + 1):\n",
    "    if n % i == 0:\n",
    "        divisors.append(i)\n",
    "        if i != 1 and i != n:\n",
    "            is_prime = False\n",
    "print(divisors)\n",
    "if len(divisors) == 2:\n",
    "    print(f\"The number {n} is prime.\")\n",
    "else:\n",
    "    print(f\"The number {n} is not prime.\")\n"
   ]
  },
  {
   "cell_type": "markdown",
   "id": "4160b677",
   "metadata": {},
   "source": [
    "10) Write a program that rolls a user-chosen number of six-sided dice, displays the results, and indicates how many times a 6 has come up"
   ]
  },
  {
   "cell_type": "code",
   "execution_count": 46,
   "id": "9293a651",
   "metadata": {},
   "outputs": [
    {
     "name": "stdout",
     "output_type": "stream",
     "text": [
      "Enter how many dice you want to roll: 10\n",
      "Rolling the dice...\n",
      "1 2 5 3 4 4 4 3 2 4 \n",
      "Number of times 6 appeared: 0\n"
     ]
    }
   ],
   "source": [
    "import random\n",
    "import time\n",
    "\n",
    "n = int(input(\"Enter how many dice you want to roll: \"))\n",
    "times = 0 \n",
    "\n",
    "print(\"Rolling the dice...\")\n",
    "time.sleep(1)  # Pause for 1 second\n",
    "\n",
    "for i in range(n):\n",
    "    d = random.randint(1, 6)  # Generate a random number between 1 and 6 (inclusive)\n",
    "    print(d, end=\" \")\n",
    "    if d == 6:\n",
    "        times += 1\n",
    "\n",
    "print(\"\\nNumber of times 6 appeared:\", times)\n"
   ]
  },
  {
   "cell_type": "markdown",
   "id": "401e961b",
   "metadata": {},
   "source": [
    "EXPLANATION\n",
    "--"
   ]
  },
  {
   "cell_type": "markdown",
   "id": "486c4417",
   "metadata": {},
   "source": [
    "1) import random: Imports the random module which provides functions for generating random numbers.\n",
    "2) import time: Imports the time module which is used for introducing delays in the program.\n",
    "3) n = int(input(\"Enter how many dice you want to roll: \")): Asks the user to input the number of dice they want to roll and stores it in the variable n.\n",
    "4) times = 0: Initializes a counter variable volte to keep track of how many times the number 6 appears.\n",
    "5) print(\"Rolling the dice...\"): Displays a message indicating that the dice are being rolled.\n",
    "6) time.sleep(1): Pauses the program for 1 second using the sleep function from the time module to simulate the rolling process.\n",
    "7) The for loop iterates n times, where n is the number of dice rolls specified by the user.\n",
    "8) d = random.randint(1, 6): Generates a random integer between 1 and 6 (inclusive) and assigns it to the variable d.\n",
    "9) print(d, end=\" \"): Prints the result of the dice roll with a space after it. The end=\" \" argument is used to prevent a newline character from being added after each print statement.\n",
    "10) if d == 6:: Checks if the rolled number d is equal to 6.\n",
    "11) Inside the if block, volte is incremented by 1 to keep track of how many times 6 appears.\n",
    "12) After the loop, the program prints the total number of times 6 appeared using the variable volte."
   ]
  },
  {
   "cell_type": "markdown",
   "id": "e2264861",
   "metadata": {},
   "source": [
    "11) Write the Pythagorean table (the multiplication table)"
   ]
  },
  {
   "cell_type": "code",
   "execution_count": 47,
   "id": "f62e0a10",
   "metadata": {},
   "outputs": [
    {
     "name": "stdout",
     "output_type": "stream",
     "text": [
      "   1    2    3    4    5    6    7    8    9   10 \n",
      "   2    4    6    8   10   12   14   16   18   20 \n",
      "   3    6    9   12   15   18   21   24   27   30 \n",
      "   4    8   12   16   20   24   28   32   36   40 \n",
      "   5   10   15   20   25   30   35   40   45   50 \n",
      "   6   12   18   24   30   36   42   48   54   60 \n",
      "   7   14   21   28   35   42   49   56   63   70 \n",
      "   8   16   24   32   40   48   56   64   72   80 \n",
      "   9   18   27   36   45   54   63   72   81   90 \n",
      "  10   20   30   40   50   60   70   80   90  100 \n"
     ]
    }
   ],
   "source": [
    "for i in range(1, 11):\n",
    "    for j in range(1, 11):\n",
    "        result = i * j\n",
    "        print(f\"{result:4}\", end=\" \")  # Format the result with a width of 4 characters\n",
    "    print()"
   ]
  },
  {
   "cell_type": "markdown",
   "id": "faf0a870",
   "metadata": {},
   "source": [
    "12) Given an integer number n, write an algorithm that outputs and counts its prime factors."
   ]
  },
  {
   "cell_type": "code",
   "execution_count": 48,
   "id": "886d00a6",
   "metadata": {},
   "outputs": [
    {
     "name": "stdout",
     "output_type": "stream",
     "text": [
      "Enter a number: 1028\n",
      "Prime divisors of the number are:\n",
      "1 2 257 \n",
      "In total, the number has 3 prime divisors\n"
     ]
    }
   ],
   "source": [
    "n = int(input(\"Enter a number: \"))\n",
    "f = 0\n",
    "\n",
    "print(\"Prime divisors of the number are:\")\n",
    "for i in range(1, n + 1):\n",
    "    if n % i == 0:\n",
    "        primo = True\n",
    "        for j in range(2, i):\n",
    "            if i % j == 0:\n",
    "                primo = False\n",
    "        if primo:\n",
    "            print(i, end=\" \")\n",
    "            f += 1\n",
    "\n",
    "print(f\"\\nIn total, the number has {f} prime divisors\")"
   ]
  },
  {
   "cell_type": "markdown",
   "id": "71c5c8c2",
   "metadata": {},
   "source": [
    "EXPLANATION\n",
    "--"
   ]
  },
  {
   "cell_type": "markdown",
   "id": "8fd62e01",
   "metadata": {},
   "source": [
    "1) n = int(input(\"Enter a number: \")): Takes user input to get the value of n.\n",
    "2) f = 0: Initializes a counter variable f to count the number of prime divisors.\n",
    "3) The program then enters a loop that iterates through numbers from 1 to n.\n",
    "4) Inside the loop, it checks if n is divisible by i using n % i == 0.\n",
    "5) If n is divisible by i, it initializes a boolean variable primo to True, assuming that i is prime.\n",
    "6) An inner loop checks if i is prime by iterating from 2 to i - 1.\n",
    "7) If any divisor other than 1 and i is found, primo is set to False.\n",
    "8) After the inner loop, if primo is still True, it means i is prime, and it's printed.\n",
    "9) The counter f is incremented each time a prime divisor is found.\n",
    "10) After the loop, the program prints the total number of prime divisors using the variable f."
   ]
  },
  {
   "cell_type": "markdown",
   "id": "ece8c9c4",
   "metadata": {},
   "source": [
    "12) Write the natural numbers between 1 and a number read as input, excluding the endpoints."
   ]
  },
  {
   "cell_type": "code",
   "execution_count": 49,
   "id": "da61e71e",
   "metadata": {
    "scrolled": true
   },
   "outputs": [
    {
     "name": "stdout",
     "output_type": "stream",
     "text": [
      "Enter an integer number: 44\n",
      "Numbers Read: [1, 2, 3, 4, 5, 6, 7, 8, 9, 10, 11, 12, 13, 14, 15, 16, 17, 18, 19, 20, 21, 22, 23, 24, 25, 26, 27, 28, 29, 30, 31, 32, 33, 34, 35, 36, 37, 38, 39, 40, 41, 42, 43]\n"
     ]
    }
   ],
   "source": [
    "user_input = int(input(\"Enter an integer number: \"))\n",
    "\n",
    "r = [] # r stay for numbers read\n",
    "\n",
    "for num in range(1, user_input):\n",
    "    r.append(num)\n",
    "print('Numbers Read:', r)"
   ]
  },
  {
   "cell_type": "markdown",
   "id": "bb2de00d",
   "metadata": {},
   "source": [
    "13) Imagine you're a teacher and you need to calculate the final grades for your students in a course. You have a list of each student's scores, and you want to assign letter grades based on the following criteria:\n",
    "\n",
    "1) Score greater than or equal to 90: A\n",
    "2) Score greater than or equal to 80 and less than 90: B\n",
    "3) Score greater than or equal to 70 and less than 80: C\n",
    "4) Score greater than or equal to 60 and less than 70: D\n",
    "5) Score less than 60: F\n",
    "\n",
    "Write a program that takes a list of student scores and generates a list of corresponding letter grades."
   ]
  },
  {
   "cell_type": "markdown",
   "id": "443d7a54",
   "metadata": {},
   "source": [
    "IMPLEMENTATION AND TEST\n",
    "--"
   ]
  },
  {
   "cell_type": "code",
   "execution_count": 51,
   "id": "1966cb11",
   "metadata": {},
   "outputs": [
    {
     "name": "stdout",
     "output_type": "stream",
     "text": [
      "Enter student scores separated by spaces: 50 60 70 85 84 100 32\n",
      "Student 1: Score = 50, Grade = F\n",
      "Student 2: Score = 60, Grade = D\n",
      "Student 3: Score = 70, Grade = C\n",
      "Student 4: Score = 85, Grade = B\n",
      "Student 5: Score = 84, Grade = B\n",
      "Student 6: Score = 100, Grade = A\n",
      "Student 7: Score = 32, Grade = F\n"
     ]
    }
   ],
   "source": [
    "# Input student scores as a list\n",
    "scores_str = input(\"Enter student scores separated by spaces: \")\n",
    "scores = [int(score) for score in scores_str.split()]\n",
    "\n",
    "# List to store letter grades\n",
    "letter_grades = []\n",
    "\n",
    "# Iterate through each score and assign letter grade\n",
    "for score in scores:\n",
    "    if score >= 90:\n",
    "        letter_grades.append('A')\n",
    "    elif score >= 80:\n",
    "        letter_grades.append('B')\n",
    "    elif score >= 70:\n",
    "        letter_grades.append('C')\n",
    "    elif score >= 60:\n",
    "        letter_grades.append('D')\n",
    "    else:\n",
    "        letter_grades.append('F')\n",
    "\n",
    "# Print the letter grades\n",
    "for i in range(len(scores)):\n",
    "    print(f\"Student {i+1}: Score = {scores[i]}, Grade = {letter_grades[i]}\")\n"
   ]
  },
  {
   "cell_type": "raw",
   "id": "91bbdb52",
   "metadata": {},
   "source": [
    "14) Imagine you work at a sales company, and you need to calculate the commission for each salesperson based on their sales performance. The commission rates are as follows:\n",
    "\n",
    "1) If sales are less than $1000, the commission rate is 5%.\n",
    "2) If sales are between $1000 (inclusive) and $5000 (exclusive), the commission rate is 8 %.\n",
    "3) If sales are $5000 or more, the commission rate is 10%.\n",
    "\n",
    "Write a program that takes a list of sales amounts for each salesperson and calculates and displays their commissions."
   ]
  },
  {
   "cell_type": "markdown",
   "id": "85b63763",
   "metadata": {},
   "source": [
    "IMPLEMENTATION AND TEST\n",
    "--"
   ]
  },
  {
   "cell_type": "code",
   "execution_count": 52,
   "id": "3e22286e",
   "metadata": {},
   "outputs": [
    {
     "name": "stdout",
     "output_type": "stream",
     "text": [
      "Enter sales amounts for each salesperson separated by spaces: 2000 1200 5800 6900\n",
      "Salesperson 1: Sales = $2000.00, Commission = $160.00\n",
      "Salesperson 2: Sales = $1200.00, Commission = $96.00\n",
      "Salesperson 3: Sales = $5800.00, Commission = $580.00\n",
      "Salesperson 4: Sales = $6900.00, Commission = $690.00\n"
     ]
    }
   ],
   "source": [
    "# Input sales amounts for each salesperson as a list\n",
    "sales_str = input(\"Enter sales amounts for each salesperson separated by spaces: \")\n",
    "sales = [float(amount) for amount in sales_str.split()]\n",
    "\n",
    "# List to store commissions\n",
    "commissions = []\n",
    "\n",
    "# Calculate commissions based on sales\n",
    "for amount in sales:\n",
    "    if amount < 1000:\n",
    "        commission = amount * 0.05\n",
    "    elif 1000 <= amount < 5000:\n",
    "        commission = amount * 0.08\n",
    "    else:\n",
    "        commission = amount * 0.10\n",
    "    commissions.append(commission)\n",
    "\n",
    "# Print the commissions\n",
    "for i in range(len(sales)):\n",
    "    print(f\"Salesperson {i+1}: Sales = ${sales[i]:.2f}, Commission = ${commissions[i]:.2f}\")\n"
   ]
  },
  {
   "cell_type": "markdown",
   "id": "ead2d0f3",
   "metadata": {},
   "source": [
    "15) Write a code which computes the dot product between two vectors. Please don't use numpy and the dot functions.\n",
    "Remeber that the dot product is a scalar number, so the output muat be something like λ ∈ R"
   ]
  },
  {
   "cell_type": "code",
   "execution_count": 53,
   "id": "7aa7a9d8",
   "metadata": {
    "scrolled": true
   },
   "outputs": [
    {
     "name": "stdout",
     "output_type": "stream",
     "text": [
      "Enter the values of the first vector separated by spaces: 1 2 0\n",
      "Enter the values of the second vector separated by spaces: 0 1 5\n",
      "The dot product between the two vectors is: 2.0 -> please check by hand calculation\n",
      "\n"
     ]
    }
   ],
   "source": [
    "# Input the two vectors as lists of numbers separated by spaces\n",
    "vector1_str = input(\"Enter the values of the first vector separated by spaces: \")\n",
    "vector2_str = input(\"Enter the values of the second vector separated by spaces: \")\n",
    "\n",
    "# Convert the strings into lists of numbers\n",
    "vector1 = [float(value) for value in vector1_str.split()]\n",
    "vector2 = [float(value) for value in vector2_str.split()]\n",
    "\n",
    "# Check if the two vectors have the same length\n",
    "if len(vector1) != len(vector2):\n",
    "    print(\"The two vectors must have the same length to calculate the dot product.\")\n",
    "else:\n",
    "    # Calculate the dot product using a for loop\n",
    "    dot_product = 0\n",
    "    for i in range(len(vector1)):\n",
    "        dot_product += vector1[i] * vector2[i]\n",
    "\n",
    "    # Print the dot product result\n",
    "    print(f\"The dot product between the two vectors is: {dot_product}\", '-> please check by hand calculation')\n",
    "    print()\n"
   ]
  },
  {
   "cell_type": "markdown",
   "id": "78f6c2ad",
   "metadata": {},
   "source": [
    "16) Given an array (list) as input, write a code which evaluate the differences between each couple of adjacents elements\n",
    "\n",
    "Example: arr = [1, 2, 6, 7, 4]\n",
    "\n",
    "Output: [-1, -3, -1, 3 ] \n",
    "\n",
    "Explanation: (1-2) = -1, (2-6) = -3 , (6-7) = -1 and (7-4) = 3"
   ]
  },
  {
   "cell_type": "markdown",
   "id": "36c816e9",
   "metadata": {},
   "source": [
    "IMPLEMENTATION\n",
    "--"
   ]
  },
  {
   "cell_type": "code",
   "execution_count": 54,
   "id": "a7e5bb81",
   "metadata": {},
   "outputs": [],
   "source": [
    "def calculate_differences(input_list):\n",
    "    differences = []  # Initialize an empty list to store the differences\n",
    "    \n",
    "    for i in range(len(input_list) - 1):\n",
    "        diff = input_list[i + 1] - input_list[i]  # Calculate the difference between adjacent elements\n",
    "        differences.append(diff)  # Add the difference to the list\n",
    "    \n",
    "    return differences\n",
    "\n",
    "def invert_differences(differences_list):\n",
    "    inverted_differences = []  # Initialize an empty list to store the inverted differences\n",
    "    \n",
    "    for diff in differences_list:\n",
    "        inverted_differences.append(-diff)  # Invert the difference and add it to the list\n",
    "    \n",
    "    return inverted_differences\n"
   ]
  },
  {
   "cell_type": "markdown",
   "id": "3ede0b72",
   "metadata": {},
   "source": [
    "TEST\n",
    "--"
   ]
  },
  {
   "cell_type": "code",
   "execution_count": 55,
   "id": "61a2a019",
   "metadata": {},
   "outputs": [
    {
     "name": "stdout",
     "output_type": "stream",
     "text": [
      "Inverted differences between adjacent elements: [-1, -4, -1, 3]\n"
     ]
    }
   ],
   "source": [
    "# Input: List of numbers\n",
    "input_numbers = [1, 2, 6, 7, 4]\n",
    "# Calculate differences\n",
    "differences = calculate_differences(input_numbers)\n",
    "# Invert differences\n",
    "inverted_differences = invert_differences(differences)\n",
    "# Print the result\n",
    "print(\"Inverted differences between adjacent elements:\", inverted_differences)"
   ]
  },
  {
   "cell_type": "markdown",
   "id": "bdc64101",
   "metadata": {},
   "source": [
    "The code above computes the differences between the as (ith element - i+1th element). If we want to revers the process, we should proceed as follow:"
   ]
  },
  {
   "cell_type": "code",
   "execution_count": 56,
   "id": "7d446cfb",
   "metadata": {},
   "outputs": [
    {
     "name": "stdout",
     "output_type": "stream",
     "text": [
      "Differences between adjacent elements: [1, 4, 1, -3]\n"
     ]
    }
   ],
   "source": [
    "def calculate_differences(input_list):\n",
    "    differences = []  # Initialize an empty list to store the differences\n",
    "    \n",
    "    for i in range(len(input_list) - 1):\n",
    "        diff = input_list[i + 1] - input_list[i]  # Calculate the difference between adjacent elements\n",
    "        differences.append(diff)  # Add the difference to the list\n",
    "    \n",
    "    return differences\n",
    "\n",
    "# Input: List of numbers\n",
    "input_numbers = [1, 2, 6, 7, 4]\n",
    "# Call the function and print the result\n",
    "differences = calculate_differences(input_numbers)\n",
    "print(\"Differences between adjacent elements:\", differences)"
   ]
  },
  {
   "cell_type": "markdown",
   "id": "af609531",
   "metadata": {},
   "source": [
    "Please note that the gist of change is in write \"differences.append(diff)\" instead of \"differences.append(-diff)\""
   ]
  },
  {
   "cell_type": "markdown",
   "id": "fc6b99a2",
   "metadata": {},
   "source": [
    "17) You are given a square matrix of size N x N, where each cell contains an integer value. You need to write a program to find and count the number of matrix elements that satisfy two conditions:\n",
    "\n",
    "- The element should be greater than X.\n",
    "- The element's row index and column index should both be even numbers.\n",
    "\n",
    "Write a function that takes in the matrix matrix, the integer value X, and the size N as inputs, and returns the count of elements that meet the above conditions."
   ]
  },
  {
   "cell_type": "markdown",
   "id": "2082e306",
   "metadata": {},
   "source": [
    "IMPLEMENTATION\n",
    "--"
   ]
  },
  {
   "cell_type": "code",
   "execution_count": 57,
   "id": "abca2518",
   "metadata": {},
   "outputs": [],
   "source": [
    "def count_selected_elements(matrix, X, N):\n",
    "    count = 0\n",
    "    \n",
    "    for i in range(N):\n",
    "        for j in range(N):\n",
    "            if i % 2 == 0 and j % 2 == 0:  # Both row and column indices are even\n",
    "                if matrix[i][j] > X:\n",
    "                    count += 1\n",
    "    \n",
    "    return count"
   ]
  },
  {
   "cell_type": "markdown",
   "id": "caaa901d",
   "metadata": {},
   "source": [
    "In this problem, the double for loop iterates through each element in the matrix. The nested if statement checks if the row index and column index are both even and if the element is greater than X. If both conditions are met, the count is incremented. The final result is the count of matrix elements that satisfy both conditions."
   ]
  },
  {
   "cell_type": "markdown",
   "id": "4d30b46f",
   "metadata": {},
   "source": [
    "TEST\n",
    "--"
   ]
  },
  {
   "cell_type": "code",
   "execution_count": 58,
   "id": "15d51ae3",
   "metadata": {},
   "outputs": [
    {
     "name": "stdout",
     "output_type": "stream",
     "text": [
      "Number of selected elements: 2\n"
     ]
    }
   ],
   "source": [
    "#defining generic square matrix \n",
    "matrix = [\n",
    "    [3, 8, 12, 6],\n",
    "    [2, 5, 9, 7],\n",
    "    [11, 4, 1, 10],\n",
    "    [14, 15, 17, 20]\n",
    "]\n",
    "X = 6 # \n",
    "N = 4\n",
    "result = count_selected_elements(matrix, X, N)\n",
    "print(\"Number of selected elements:\", result)\n"
   ]
  },
  {
   "cell_type": "markdown",
   "id": "bd02bcf1",
   "metadata": {},
   "source": [
    "If we want to modify the code to actually display the selected elements instead of just counting them, you can store the selected elements in a list and return that list as shown below"
   ]
  },
  {
   "cell_type": "markdown",
   "id": "2087fa93",
   "metadata": {},
   "source": [
    "IMPLEMENTATION AND TEST\n",
    "--"
   ]
  },
  {
   "cell_type": "code",
   "execution_count": 59,
   "id": "6862048b",
   "metadata": {},
   "outputs": [
    {
     "name": "stdout",
     "output_type": "stream",
     "text": [
      "Selected elements: [12, 11]\n"
     ]
    }
   ],
   "source": [
    "def find_selected_elements(matrix, X, N):\n",
    "    selected_elements = []\n",
    "    \n",
    "    for i in range(N):\n",
    "        for j in range(N):\n",
    "            if i % 2 == 0 and j % 2 == 0:  # Both row and column indices are even\n",
    "                if matrix[i][j] > X:\n",
    "                    selected_elements.append(matrix[i][j])\n",
    "    \n",
    "    return selected_elements\n",
    "\n",
    "matrix = [\n",
    "    [3, 8, 12, 6],\n",
    "    [2, 5, 9, 7],\n",
    "    [11, 4, 1, 10],\n",
    "    [14, 15, 17, 20]\n",
    "]\n",
    "X = 6\n",
    "N = 4\n",
    "selected_elements = find_selected_elements(matrix, X, N)\n",
    "print(\"Selected elements:\", selected_elements)"
   ]
  },
  {
   "cell_type": "markdown",
   "id": "653d0eb8",
   "metadata": {},
   "source": [
    "17) We want to plot a generic graph importing matplotlib.pyplot lib using for loop. Below a simple example."
   ]
  },
  {
   "cell_type": "code",
   "execution_count": 60,
   "id": "4d6e8168",
   "metadata": {},
   "outputs": [
    {
     "data": {
      "image/png": "[encoded data removed]",
      "text/plain": [
       "<Figure size 640x480 with 1 Axes>"
      ]
     },
     "metadata": {},
     "output_type": "display_data"
    }
   ],
   "source": [
    "import matplotlib.pyplot as plt\n",
    "\n",
    "# Generate data using a for loop\n",
    "x_values = []\n",
    "y_values = []\n",
    "\n",
    "for x in range(1, 11):\n",
    "    x_values.append(x)\n",
    "    y_values.append(x ** 2)\n",
    "\n",
    "# Plotting the data\n",
    "plt.plot(x_values, y_values, marker='o', linestyle='-', color='b', label='y = x^2')\n",
    "plt.title('Simple Line Plot')\n",
    "plt.xlabel('X Values')\n",
    "plt.ylabel('Y Values')\n",
    "plt.legend()\n",
    "plt.grid(True)\n",
    "plt.show()"
   ]
  },
  {
   "cell_type": "markdown",
   "id": "66d3cb6c",
   "metadata": {},
   "source": [
    "If we want to add another function on the same graph (avoid functions which require maths or numpy), we can write a similar code. See comment within the code"
   ]
  },
  {
   "cell_type": "code",
   "execution_count": 61,
   "id": "f0a14f91",
   "metadata": {},
   "outputs": [
    {
     "data": {
      "image/png": "[encoded data removed]",
      "text/plain": [
       "<Figure size 640x480 with 1 Axes>"
      ]
     },
     "metadata": {},
     "output_type": "display_data"
    }
   ],
   "source": [
    "import matplotlib.pyplot as plt\n",
    "\n",
    "# Generate data using a for loop\n",
    "x_values = []\n",
    "y_values_squared = []\n",
    "y_values_cubed = []\n",
    "\n",
    "for x in range(1, 11):\n",
    "    x_values.append(x)\n",
    "    y_values_squared.append(x ** 2) # first defined function\n",
    "    y_values_cubed.append((x ** 3) / 4) # 2nd defined function\n",
    "\n",
    "# Plotting the data\n",
    "plt.plot(x_values, y_values_squared, marker='o', linestyle='-', color='b', label='y = x^2')\n",
    "plt.plot(x_values, y_values_cubed, marker='o', linestyle='-', color='r', label='y = x^3/4')\n",
    "plt.title('Line Plot with Functions')\n",
    "plt.xlabel('X Values')\n",
    "plt.ylabel('Y Values')\n",
    "plt.legend()\n",
    "plt.grid(True)\n",
    "plt.show()\n"
   ]
  },
  {
   "cell_type": "markdown",
   "id": "c396e3b1",
   "metadata": {},
   "source": [
    "Finally, we may be insterested to find the intersection (if exist) between the above curves. This is also possible by using for loop statements"
   ]
  },
  {
   "cell_type": "code",
   "execution_count": 62,
   "id": "b98e2c5c",
   "metadata": {},
   "outputs": [
    {
     "data": {
      "image/png": "[encoded data removed]",
      "text/plain": [
       "<Figure size 640x480 with 1 Axes>"
      ]
     },
     "metadata": {},
     "output_type": "display_data"
    },
    {
     "name": "stdout",
     "output_type": "stream",
     "text": [
      "The intersection point has coordinates: ('X =' 4, 'Y ='16)\n"
     ]
    }
   ],
   "source": [
    "import matplotlib.pyplot as plt\n",
    "\n",
    "# Generate data using a for loop\n",
    "x_values = []\n",
    "y_values_squared = []\n",
    "y_values_cubed = []\n",
    "\n",
    "for x in range(1, 11):\n",
    "    x_values.append(x)\n",
    "    y_values_squared.append(x ** 2)\n",
    "    y_values_cubed.append((x ** 3) / 4)\n",
    "\n",
    "# Find the intersection point\n",
    "intersection_x = None\n",
    "intersection_y = None\n",
    "\n",
    "for i in range(len(x_values)):\n",
    "    if y_values_squared[i] == y_values_cubed[i]:\n",
    "        intersection_x = x_values[i]\n",
    "        intersection_y = y_values_squared[i]\n",
    "        break\n",
    "\n",
    "# Plotting the data\n",
    "plt.plot(x_values, y_values_squared, marker='o', linestyle='-', color='b', label='y = x^2')\n",
    "plt.plot(x_values, y_values_cubed, marker='o', linestyle='-', color='r', label='y = x^3/4')\n",
    "plt.scatter(intersection_x, intersection_y, color='black', label='Intersection Point', s=100)  # Adjust s value for size\n",
    "plt.title('Line Plot with Functions and Intersection Point')\n",
    "plt.xlabel('X Values')\n",
    "plt.ylabel('Y Values')\n",
    "plt.legend()\n",
    "plt.grid(True)\n",
    "plt.show()\n",
    "\n",
    "if intersection_x is not None:\n",
    "    print(f\"The intersection point has coordinates: ('X =' {intersection_x}, 'Y ='{intersection_y})\")\n",
    "else:\n",
    "    print(\"No intersection point found.\")\n"
   ]
  },
  {
   "cell_type": "markdown",
   "id": "c1f23a02",
   "metadata": {},
   "source": [
    "18) The trace of a matrix is the sum of its diagonal elements. You can compute the trace of a matrix using a for loop to iterate through the diagonal elements and sum them up.\n",
    "\n",
    "So, given a matrix A, compute tr(A) (trace of A), by using for loop."
   ]
  },
  {
   "cell_type": "markdown",
   "id": "9df731f8",
   "metadata": {},
   "source": [
    "IMPLEMENTATION AND TEST\n",
    "--"
   ]
  },
  {
   "cell_type": "code",
   "execution_count": 63,
   "id": "42da635b",
   "metadata": {},
   "outputs": [
    {
     "name": "stdout",
     "output_type": "stream",
     "text": [
      "Trace of the matrix: 15\n"
     ]
    }
   ],
   "source": [
    "def calculate_trace(matrix):\n",
    "    trace = 0\n",
    "    for i in range(len(matrix)):\n",
    "        trace += matrix[i][i]\n",
    "    return trace\n",
    "\n",
    "# Example matrix\n",
    "matrix = [\n",
    "    [1, 2, 3],\n",
    "    [4, 5, 6],\n",
    "    [7, 8, 9]\n",
    "]\n",
    "\n",
    "# Calculate the trace of the matrix\n",
    "trace = calculate_trace(matrix)\n",
    "print(\"Trace of the matrix:\", trace)"
   ]
  },
  {
   "cell_type": "markdown",
   "id": "4e16e2e8",
   "metadata": {},
   "source": [
    "To verify that compute (1 + 5 + 9) = 15\n",
    "In this example, the calculate_trace function takes a matrix as input. It uses a for loop to iterate through the diagonal elements (elements with the same row and column indices) and accumulates their values to calculate the trace. The final result is printed out."
   ]
  },
  {
   "cell_type": "markdown",
   "id": "d69b88b8",
   "metadata": {},
   "source": [
    "If you want to calculate the trace by summing the diagonal elements from the end (opposite diagonal), you can modify the for loop accordingly. Here's how you can do it:"
   ]
  },
  {
   "cell_type": "code",
   "execution_count": 64,
   "id": "bbc2f228",
   "metadata": {},
   "outputs": [
    {
     "name": "stdout",
     "output_type": "stream",
     "text": [
      "Inversed trace of the matrix: 15.3\n"
     ]
    }
   ],
   "source": [
    "def calculate_inversed_trace(matrix):\n",
    "    inversed_trace = 0\n",
    "    n = len(matrix)\n",
    "    for i in range(n):\n",
    "        inversed_trace += matrix[i][n - 1 - i] # note the difference with the previous code\n",
    "    return inversed_trace\n",
    "\n",
    "# Example matrix\n",
    "matrix = [\n",
    "    [2.9, 8.1, 3],\n",
    "    [4, 5.1, 6.6],\n",
    "    [7.2, 8, 9.2]\n",
    "]\n",
    "\n",
    "# Calculate the inversed trace of the matrix\n",
    "inversed_trace = calculate_inversed_trace(matrix)\n",
    "print(\"Inversed trace of the matrix:\", inversed_trace)"
   ]
  },
  {
   "cell_type": "markdown",
   "id": "9579a15c",
   "metadata": {},
   "source": [
    "To verify that compute (3 + 5.1 + 7.2) = 15.3\n",
    "In this modified version of the code, the calculate_inversed_trace function uses a for loop to iterate through the diagonal elements in reverse order (from the end of the matrix towards the start), and accumulates their values to calculate the inversed trace. The result is printed out."
   ]
  },
  {
   "cell_type": "markdown",
   "id": "f43502f9",
   "metadata": {},
   "source": [
    "19) Compute the determinat of a 2x2 given matrix and determine if it is invertible. \n",
    "! Calculating the determinant of a matrix using only for loops and if statements can be a bit more complicated, especially for matrices of higher order than 2x2.\n",
    "When dealing with large matrices and more complex mathematical operations like determinant calculations, using specialized libraries can greatly enhance efficiency and accuracy. Here are some Python modules that are commonly used to compute the determinant of big matrices:\n",
    "\n",
    "- NumPy: NumPy is a powerful library for numerical computing in Python. It provides efficient and optimized functions for working with arrays, including matrix operations like determinant calculation.\n",
    "\n",
    "- SciPy: SciPy builds on top of NumPy and offers additional scientific and mathematical functionalities. It includes functions for linear algebra operations, such as determinant calculation, eigenvalue decomposition, and more.\n",
    "\n",
    "- SymPy: SymPy is a symbolic mathematics library in Python. While it might not be as efficient as numerical libraries for large matrices, it's great for symbolic computations and can compute determinants symbolically.\n",
    "\n",
    "- scikit-learn: scikit-learn is a machine learning library that also includes various linear algebra functions, including determinant calculation. It might be useful if you're working with matrices in the context of machine learning tasks.\n",
    "\n",
    "- TensorFlow / PyTorch: If you're dealing with very large matrices as part of deep learning applications, TensorFlow or PyTorch could be useful. While primarily designed for neural network computations, they also offer linear algebra operations."
   ]
  },
  {
   "cell_type": "markdown",
   "id": "61678f28",
   "metadata": {},
   "source": [
    "IMPLEMENTATION AND TEST1 FOR 2 X MATRIX\n",
    "--"
   ]
  },
  {
   "cell_type": "code",
   "execution_count": 65,
   "id": "381adb1b",
   "metadata": {},
   "outputs": [
    {
     "name": "stdout",
     "output_type": "stream",
     "text": [
      "Determinant of the matrix: -1\n",
      "The matrix is invertible.\n"
     ]
    }
   ],
   "source": [
    "def calculate_determinant(matrix):\n",
    "    if len(matrix) != 2 or len(matrix[0]) != 2 or len(matrix[1]) != 2:\n",
    "        raise ValueError(\"Matrix should be 2x2\")\n",
    "\n",
    "    determinant = (matrix[0][0] * matrix[1][1]) - (matrix[0][1] * matrix[1][0])\n",
    "    return determinant\n",
    "\n",
    "# 2x2 matrix (already know that its determinat is not equal to zero)\n",
    "matrix = [\n",
    "    [2, 5],\n",
    "    [3, 7]\n",
    "]\n",
    "\n",
    "# Calculate the determinant of the matrix\n",
    "determinant = calculate_determinant(matrix)\n",
    "print(\"Determinant of the matrix:\", determinant)\n",
    "\n",
    "# Check if the matrix is invertible (non-singular)\n",
    "if determinant != 0:\n",
    "    print(\"The matrix is invertible.\")\n",
    "else:\n",
    "    print(\"The matrix is not invertible.\")"
   ]
  },
  {
   "cell_type": "markdown",
   "id": "f96106ec",
   "metadata": {},
   "source": [
    "TEST2\n",
    "--"
   ]
  },
  {
   "cell_type": "code",
   "execution_count": 66,
   "id": "d8ffab1f",
   "metadata": {},
   "outputs": [
    {
     "name": "stdout",
     "output_type": "stream",
     "text": [
      "Determinant of the matrix: 0\n",
      "The matrix is not invertible.\n"
     ]
    }
   ],
   "source": [
    "# 2x2 matrix\n",
    "matrix = [\n",
    "    [0, 0],\n",
    "    [1, 1]\n",
    "]\n",
    "\n",
    "# Calculate the determinant of the matrix\n",
    "determinant = calculate_determinant(matrix)\n",
    "print(\"Determinant of the matrix:\", determinant)\n",
    "\n",
    "# Check if the matrix is invertible (non-singular)\n",
    "if determinant != 0:\n",
    "    print(\"The matrix is invertible.\")\n",
    "else:\n",
    "    print(\"The matrix is not invertible.\")"
   ]
  },
  {
   "cell_type": "markdown",
   "id": "4ae5422c",
   "metadata": {},
   "source": [
    "20) You have a fruit basket with a variety of fruits. Each fruit is represented by its name and weight (in grams). Your task is to analyze the fruits in the basket and determine the total weight of a specific type of fruit. To solve this problem, write a program using a for loop and three if statements.\n",
    "\n",
    "Your program should take a list of fruit entries as input. Each fruit entry consists of a fruit name (a string) and its weight (an integer).\n",
    "\n",
    "Write a program that calculates and outputs the total weight of a specified fruit type. Your program should use a combination of a for loop and three if statements to implement the logic."
   ]
  },
  {
   "cell_type": "markdown",
   "id": "65f6e0e2",
   "metadata": {},
   "source": [
    "IMPLEMENTATION AND TEST\n",
    "--"
   ]
  },
  {
   "cell_type": "code",
   "execution_count": 67,
   "id": "9f6b7f8b",
   "metadata": {},
   "outputs": [
    {
     "name": "stdout",
     "output_type": "stream",
     "text": [
      "Total weight of apples: 520 grams\n"
     ]
    }
   ],
   "source": [
    "def calculate_total_weight(fruits, target_fruit):\n",
    "    total_weight = 0\n",
    "    \n",
    "    for fruit, weight in fruits:\n",
    "        if fruit == target_fruit:\n",
    "            total_weight += weight\n",
    "    \n",
    "    return total_weight\n",
    "\n",
    "# Example fruit entries\n",
    "fruits = [\n",
    "    (\"apple\", 150),\n",
    "    (\"banana\", 120),\n",
    "    (\"apple\", 200),\n",
    "    (\"orange\", 180),\n",
    "    (\"pear\", 160),\n",
    "    (\"apple\", 170)\n",
    "]\n",
    "\n",
    "target_fruit = \"apple\"\n",
    "\n",
    "total_weight = calculate_total_weight(fruits, target_fruit)\n",
    "print(f\"Total weight of {target_fruit}s: {total_weight} grams\")\n"
   ]
  },
  {
   "cell_type": "markdown",
   "id": "173dcc7c",
   "metadata": {},
   "source": [
    "21) You are given a dictionary containing the names of students as keys and their respective scores in a test as values. Your task is to calculate the average score of all the students and identify the students who have scored above the average. Write a Python program to solve this problem."
   ]
  },
  {
   "cell_type": "markdown",
   "id": "0e91d7fd",
   "metadata": {},
   "source": [
    "IMPLEMENTATION AND TEST\n",
    "--"
   ]
  },
  {
   "cell_type": "code",
   "execution_count": 68,
   "id": "f74e5c70",
   "metadata": {},
   "outputs": [
    {
     "name": "stdout",
     "output_type": "stream",
     "text": [
      "Average Score: 82.8\n",
      "Students Above Average: ['Alice', 'Bob', 'Eve']\n"
     ]
    }
   ],
   "source": [
    "# Sample Input\n",
    "student_scores = {\n",
    "    \"Alice\": 85,\n",
    "    \"Bob\": 92,\n",
    "    \"Charlie\": 78,\n",
    "    \"David\": 64,\n",
    "    \"Eve\": 95\n",
    "}\n",
    "\n",
    "# Calculate the average score\n",
    "total_scores = sum(student_scores.values())\n",
    "num_students = len(student_scores)\n",
    "average_score = total_scores / num_students\n",
    "\n",
    "# Identify students above the average\n",
    "above_average_students = []\n",
    "for student, score in student_scores.items():\n",
    "    if score > average_score:\n",
    "        above_average_students.append(student)\n",
    "\n",
    "# Output the results\n",
    "print(\"Average Score:\", average_score)\n",
    "print(\"Students Above Average:\", above_average_students)\n"
   ]
  },
  {
   "cell_type": "markdown",
   "id": "3bf16d53",
   "metadata": {},
   "source": [
    "22) You are the manager of a bookstore and you have a dictionary containing the titles of books along with their quantities in stock. You need to categorize the books into three groups: \"In Demand\" (quantity > 20), \"Moderate Demand\" (10 <= quantity <= 20), and \"Low Demand\" (quantity < 10). Write a Python program to categorize the books and display them in separate lists."
   ]
  },
  {
   "cell_type": "markdown",
   "id": "0f1312da",
   "metadata": {},
   "source": [
    "IMPLEMENTATION AND TEST\n",
    "--"
   ]
  },
  {
   "cell_type": "code",
   "execution_count": 69,
   "id": "1154cf8d",
   "metadata": {},
   "outputs": [
    {
     "name": "stdout",
     "output_type": "stream",
     "text": [
      "Books In Demand: ['Harry Potter', 'Pride and Prejudice']\n",
      "Books in Moderate Demand: ['To Kill a Mockingbird', 'The Great Gatsby']\n",
      "Books in Low Demand: ['Lord of the Rings', '1984']\n"
     ]
    }
   ],
   "source": [
    "# Sample Input\n",
    "book_inventory = {\n",
    "    \"Harry Potter\": 25,\n",
    "    \"Lord of the Rings\": 8,\n",
    "    \"To Kill a Mockingbird\": 14,\n",
    "    \"1984\": 5,\n",
    "    \"The Great Gatsby\": 12,\n",
    "    \"Pride and Prejudice\": 30\n",
    "}\n",
    "\n",
    "# Initialize lists for different demand categories\n",
    "in_demand_books = []\n",
    "moderate_demand_books = []\n",
    "low_demand_books = []\n",
    "\n",
    "# Categorize the books\n",
    "for book, quantity in book_inventory.items():\n",
    "    if quantity > 20:\n",
    "        in_demand_books.append(book)\n",
    "    elif 10 <= quantity <= 20:\n",
    "        moderate_demand_books.append(book)\n",
    "    else:\n",
    "        low_demand_books.append(book)\n",
    "\n",
    "# Output the results\n",
    "print(\"Books In Demand:\", in_demand_books)\n",
    "print(\"Books in Moderate Demand:\", moderate_demand_books)\n",
    "print(\"Books in Low Demand:\", low_demand_books)"
   ]
  },
  {
   "cell_type": "markdown",
   "id": "6d425856",
   "metadata": {},
   "source": [
    "23) You have a dictionary with 10 key-value pairs. Key = first name and last name, value = phone number. Write a code that extracts all the phone numbers and calculates the sum of each individual number.\""
   ]
  },
  {
   "cell_type": "markdown",
   "id": "d84d0772",
   "metadata": {},
   "source": [
    "IMPLEMENTATION AND TEST\n",
    "--"
   ]
  },
  {
   "cell_type": "code",
   "execution_count": 70,
   "id": "9dec8931",
   "metadata": {},
   "outputs": [
    {
     "name": "stdout",
     "output_type": "stream",
     "text": [
      "Total sum of all phone numbers: 51114568008\n"
     ]
    }
   ],
   "source": [
    "phonebook = {\n",
    "    \"John Doe\": \"123-456-7890\",\n",
    "    \"Jane Smith\": \"987-654-3210\",\n",
    "    \"Alice Johnson\": \"555-123-4567\",\n",
    "    \"Bob Williams\": \"888-555-1234\",\n",
    "    \"Emily Davis\": \"333-999-8888\",\n",
    "    \"Michael Brown\": \"444-222-1111\",\n",
    "    \"Sarah Wilson\": \"777-888-9999\",\n",
    "    \"David Lee\": \"666-333-5555\",\n",
    "    \"Lisa Martinez\": \"222-444-6666\",\n",
    "    \"Daniel Taylor\": \"111-777-8888\"\n",
    "}\n",
    "\n",
    "phone_numbers = phonebook.values()\n",
    "\n",
    "total_sum = 0\n",
    "for number in phone_numbers:\n",
    "    clean_number = number.replace(\"-\", \"\")\n",
    "    total_sum += int(clean_number)\n",
    "\n",
    "print(\"Total sum of all phone numbers:\", total_sum)"
   ]
  },
  {
   "cell_type": "markdown",
   "id": "5b7f1ebc",
   "metadata": {},
   "source": [
    "If you want to calculate the sum of the digits within each individual phone number for each key you may modify the code as follow:"
   ]
  },
  {
   "cell_type": "code",
   "execution_count": 71,
   "id": "85eaee25",
   "metadata": {},
   "outputs": [
    {
     "name": "stdout",
     "output_type": "stream",
     "text": [
      "Sum of digits for John Doe's phone number 123-456-7890: 45\n",
      "Sum of digits for Jane Smith's phone number 987-654-3210: 45\n",
      "Sum of digits for Alice Johnson's phone number 555-123-4567: 43\n",
      "Sum of digits for Bob Williams's phone number 888-555-1234: 49\n",
      "Sum of digits for Emily Davis's phone number 333-999-8888: 68\n",
      "Sum of digits for Michael Brown's phone number 444-222-1111: 22\n",
      "Sum of digits for Sarah Wilson's phone number 777-888-9999: 81\n",
      "Sum of digits for David Lee's phone number 666-333-5555: 47\n",
      "Sum of digits for Lisa Martinez's phone number 222-444-6666: 42\n",
      "Sum of digits for Daniel Taylor's phone number 111-777-8888: 56\n"
     ]
    }
   ],
   "source": [
    "phonebook = {\n",
    "    \"John Doe\": \"123-456-7890\",\n",
    "    \"Jane Smith\": \"987-654-3210\",\n",
    "    \"Alice Johnson\": \"555-123-4567\",\n",
    "    \"Bob Williams\": \"888-555-1234\",\n",
    "    \"Emily Davis\": \"333-999-8888\",\n",
    "    \"Michael Brown\": \"444-222-1111\",\n",
    "    \"Sarah Wilson\": \"777-888-9999\",\n",
    "    \"David Lee\": \"666-333-5555\",\n",
    "    \"Lisa Martinez\": \"222-444-6666\",\n",
    "    \"Daniel Taylor\": \"111-777-8888\"\n",
    "}\n",
    "\n",
    "def calculate_digit_sum(phone_number):\n",
    "    clean_number = phone_number.replace(\"-\", \"\")\n",
    "    digit_sum = sum(int(digit) for digit in clean_number)\n",
    "    return digit_sum\n",
    "\n",
    "for name, phone_number in phonebook.items():\n",
    "    digit_sum = calculate_digit_sum(phone_number)\n",
    "    print(f\"Sum of digits for {name}'s phone number {phone_number}: {digit_sum}\")"
   ]
  },
  {
   "cell_type": "markdown",
   "id": "ea4021a6",
   "metadata": {},
   "source": [
    "24) Given a matrix A, write a code able to compute the transposed matrix A^T. You must use only for loops"
   ]
  },
  {
   "cell_type": "markdown",
   "id": "16c1bc7f",
   "metadata": {},
   "source": [
    "IMPLEMENTATION AND TEST\n",
    "--"
   ]
  },
  {
   "cell_type": "code",
   "execution_count": 72,
   "id": "65bb7511",
   "metadata": {},
   "outputs": [
    {
     "name": "stdout",
     "output_type": "stream",
     "text": [
      "[1, 4, 7]\n",
      "[2, 5, 8]\n",
      "[3, 6, 9]\n"
     ]
    }
   ],
   "source": [
    "# Example matrix A\n",
    "A = [\n",
    "    [1, 2, 3],\n",
    "    [4, 5, 6],\n",
    "    [7, 8, 9]\n",
    "]\n",
    "\n",
    "# Get the dimensions of the matrix\n",
    "rows = len(A)\n",
    "cols = len(A[0])\n",
    "\n",
    "# Initialize the transposed matrix\n",
    "transposed = []\n",
    "\n",
    "# Iterate through columns of A\n",
    "for j in range(cols):\n",
    "    # Initialize a row for the transposed matrix\n",
    "    transposed_row = []\n",
    "    \n",
    "    # Iterate through rows of A\n",
    "    for i in range(rows):\n",
    "        transposed_row.append(A[i][j])  # Swap the row and column indices\n",
    "        \n",
    "    transposed.append(transposed_row)\n",
    "\n",
    "# Print the transposed matrix\n",
    "for row in transposed:\n",
    "    print(row)"
   ]
  },
  {
   "cell_type": "code",
   "execution_count": 73,
   "id": "4b127f84",
   "metadata": {},
   "outputs": [
    {
     "name": "stdout",
     "output_type": "stream",
     "text": [
      "Fast Check: \n",
      " [[1 4 7]\n",
      " [2 5 8]\n",
      " [3 6 9]]\n",
      "\n",
      "[[ True False False]\n",
      " [False  True False]\n",
      " [False False  True]]\n",
      "\n",
      "Check Over: OK\n"
     ]
    }
   ],
   "source": [
    "#fast check\n",
    "import numpy as np\n",
    "B = [\n",
    "    [1, 2, 3],\n",
    "    [4, 5, 6],\n",
    "    [7, 8, 9]\n",
    "]\n",
    "\n",
    "B = np.array(B).T\n",
    "print('Fast Check: \\n', B )\n",
    "print()\n",
    "print(A == B)\n",
    "print()\n",
    "print('Check Over: OK')"
   ]
  },
  {
   "cell_type": "markdown",
   "id": "93854207",
   "metadata": {},
   "source": [
    "25) Ask the user to input N numbers. Each time, if a negative number is entered, prompt the user to reenter a number until a positive number is provided. At the end, state how many negative numbers were entered and display the sum of only the positive numbers entered."
   ]
  },
  {
   "cell_type": "markdown",
   "id": "4b266865",
   "metadata": {},
   "source": [
    "IMPLEMENTATION AND TEST\n",
    "--"
   ]
  },
  {
   "cell_type": "code",
   "execution_count": 74,
   "id": "07018fd3",
   "metadata": {},
   "outputs": [
    {
     "name": "stdout",
     "output_type": "stream",
     "text": [
      "Enter a number: -1\n",
      "Please enter a positive number.\n",
      "Enter a number: -1\n",
      "Please enter a positive number.\n",
      "Enter a number: 5\n",
      "Enter a number: -1\n",
      "Please enter a positive number.\n",
      "Enter a number: 0\n",
      "Enter a number: -9\n",
      "Please enter a positive number.\n",
      "Enter a number: 0\n",
      "Number of negative numbers entered: 4\n",
      "Sum of positive numbers entered: 5.0\n"
     ]
    }
   ],
   "source": [
    "negative_count = 0\n",
    "positive_sum = 0\n",
    "\n",
    "N = 3 # decide N by yorself\n",
    "\n",
    "for i in range(N): \n",
    "    while True:\n",
    "        try:\n",
    "            num = float(input(\"Enter a number: \"))\n",
    "            if num < 0:\n",
    "                print(\"Please enter a positive number.\")\n",
    "                negative_count += 1\n",
    "            else:\n",
    "                positive_sum += num\n",
    "                break\n",
    "        except ValueError:\n",
    "            print(\"Invalid input. Please enter a valid number.\")\n",
    "\n",
    "print(\"Number of negative numbers entered:\", negative_count)\n",
    "print(\"Sum of positive numbers entered:\", positive_sum)"
   ]
  },
  {
   "cell_type": "markdown",
   "id": "863c9c9b",
   "metadata": {},
   "source": [
    "26) Prompt the user to input three natural numbers: n1, n2, and n3. Verify whether there are more powers of n1 or n2 with positive exponents less than the value of n3. Then, write down how many of these powers exist for n1 and n2.\n",
    "\n",
    "! ATTENTION ! We should use while statement to reduce the code and the running time, but at the moment, we will implement a solution just using for loop and if statemets !"
   ]
  },
  {
   "cell_type": "markdown",
   "id": "5224bce1",
   "metadata": {},
   "source": [
    "IMPLEMENTATION AND TEST\n",
    "--"
   ]
  },
  {
   "cell_type": "code",
   "execution_count": 75,
   "id": "c04b9844",
   "metadata": {},
   "outputs": [
    {
     "name": "stdout",
     "output_type": "stream",
     "text": [
      "Enter the first natural number (n1): 5\n",
      "Enter the second natural number (n2): 15\n",
      "Enter the third natural number (n3): 625\n",
      "There are more powers of n1 (5) with positive exponents less than 625.\n",
      "Number of such powers of n1: 2\n"
     ]
    }
   ],
   "source": [
    "def count_powers(number, max_exponent):\n",
    "    count = 0\n",
    "    power = number\n",
    "    \n",
    "    for exponent in range(1, max_exponent):\n",
    "        power *= number\n",
    "        if power >= max_exponent:\n",
    "            break\n",
    "        count += 1\n",
    "    \n",
    "    return count\n",
    "\n",
    "n1 = int(input(\"Enter the first natural number (n1): \"))\n",
    "n2 = int(input(\"Enter the second natural number (n2): \"))\n",
    "n3 = int(input(\"Enter the third natural number (n3): \"))\n",
    "\n",
    "powers_n1 = count_powers(n1, n3)\n",
    "powers_n2 = count_powers(n2, n3)\n",
    "\n",
    "if powers_n1 > powers_n2:\n",
    "    print(f\"There are more powers of n1 ({n1}) with positive exponents less than {n3}.\")\n",
    "    print(f\"Number of such powers of n1: {powers_n1}\")\n",
    "elif powers_n2 > powers_n1:\n",
    "    print(f\"There are more powers of n2 ({n2}) with positive exponents less than {n3}.\")\n",
    "    print(f\"Number of such powers of n2: {powers_n2}\")\n",
    "else:\n",
    "    print(f\"The number of powers of n1 ({n1}) and n2 ({n2}) with positive exponents less than {n3} is the same.\")\n",
    "    print(f\"Number of such powers: {powers_n1}\")"
   ]
  },
  {
   "cell_type": "markdown",
   "id": "7c31c9bd",
   "metadata": {},
   "source": [
    "27) Design and code that allows determining the season corresponding to the month entered as an integer by the user.\n",
    "\n",
    "Example: If the user enters 1 (January), the program should print Winter.\n",
    "\n",
    "In case the month is March, June, September, and December - all months on the cusp of two seasons - prompt the user to specify the day as well. If the day is between 1 and 20, consider the previous season; otherwise, consider the following season."
   ]
  },
  {
   "cell_type": "markdown",
   "id": "597a8176",
   "metadata": {},
   "source": [
    "IMPLEMENTATION AND TEST\n",
    "--"
   ]
  },
  {
   "cell_type": "code",
   "execution_count": 76,
   "id": "fc7fe083",
   "metadata": {},
   "outputs": [
    {
     "name": "stdout",
     "output_type": "stream",
     "text": [
      "Enter the month as a number (1-12): 12\n",
      "Enter the day: 23\n",
      "The season is: Winter\n"
     ]
    }
   ],
   "source": [
    "def get_season(month, day=None):\n",
    "    if month in [1, 2, 12]:\n",
    "        return \"Winter\"\n",
    "    elif month in [3, 4, 5]:\n",
    "        return \"Spring\"\n",
    "    elif month in [6, 7, 8]:\n",
    "        return \"Summer\"\n",
    "    elif month in [9, 10, 11]:\n",
    "        return \"Autumn\"\n",
    "    else:\n",
    "        return \"Invalid month\"\n",
    "\n",
    "def main():\n",
    "    month = int(input(\"Enter the month as a number (1-12): \"))\n",
    "    if month in [3, 6, 9, 12]:\n",
    "        day = int(input(\"Enter the day: \"))\n",
    "        if 1 <= day <= 20:\n",
    "            month -= 1\n",
    "    else:\n",
    "        day = None\n",
    "\n",
    "    season = get_season(month, day)\n",
    "    print(\"The season is:\", season)\n",
    "\n",
    "if __name__ == \"__main__\":\n",
    "    main()"
   ]
  },
  {
   "attachments": {},
   "cell_type": "markdown",
   "id": "2fc0950a",
   "metadata": {},
   "source": [
    "28) Create a program that, given a base 'a' and a limit 'n', calculates the following function:"
   ]
  },
  {
   "cell_type": "code",
   "execution_count": 77,
   "id": "2eebcc4d",
   "metadata": {},
   "outputs": [
    {
     "data": {
      "text/latex": [
       "$\\displaystyle \\sum_{i=0}^{n} a^{i}$"
      ],
      "text/plain": [
       "Sum(a**i, (i, 0, n))"
      ]
     },
     "execution_count": 77,
     "metadata": {},
     "output_type": "execute_result"
    }
   ],
   "source": [
    "import sympy as sp\n",
    "a, i, n = sp.symbols('a i n')\n",
    "summation_expr = sp.Sum(a**i, (i, 0, n))\n",
    "summation_expr"
   ]
  },
  {
   "cell_type": "markdown",
   "id": "5d864893",
   "metadata": {},
   "source": [
    "You can Implement the program in two different ways:\n",
    "1) Using two loops (one for the summation and one for the exponentiation).\n",
    "2) Using a single loop"
   ]
  },
  {
   "cell_type": "markdown",
   "id": "5faeef29",
   "metadata": {},
   "source": [
    "IMPLEMENTATION AND TEST: ONE FOR LOOP ONLY\n",
    "---"
   ]
  },
  {
   "cell_type": "code",
   "execution_count": 78,
   "id": "39d483a7",
   "metadata": {},
   "outputs": [
    {
     "name": "stdout",
     "output_type": "stream",
     "text": [
      "Enter the base 'a': 2\n",
      "Enter the limit 'n': 78\n",
      "Summation result: 604462909807314587353087\n"
     ]
    }
   ],
   "source": [
    "def calculate_sum(a, n):\n",
    "    total_sum = 0\n",
    "    for i in range(n + 1):\n",
    "        total_sum += a ** i\n",
    "    return total_sum\n",
    "\n",
    "a = int(input(\"Enter the base 'a': \"))\n",
    "n = int(input(\"Enter the limit 'n': \"))\n",
    "result = calculate_sum(a, n)\n",
    "print(\"Summation result:\", result)"
   ]
  }
 ],
 "metadata": {
  "kernelspec": {
   "display_name": "Python 3 (ipykernel)",
   "language": "python",
   "name": "python3"
  },
  "language_info": {
   "codemirror_mode": {
    "name": "ipython",
    "version": 3
   },
   "file_extension": ".py",
   "mimetype": "text/x-python",
   "name": "python",
   "nbconvert_exporter": "python",
   "pygments_lexer": "ipython3",
   "version": "3.10.9"
  }
 },
 "nbformat": 4,
 "nbformat_minor": 5
}
